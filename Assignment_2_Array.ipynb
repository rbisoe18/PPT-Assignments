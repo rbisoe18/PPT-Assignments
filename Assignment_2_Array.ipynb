{
 "cells": [
  {
   "cell_type": "markdown",
   "id": "1bcfea31-abc1-444a-a181-e4822005034b",
   "metadata": {},
   "source": [
    "#### Q. 1."
   ]
  },
  {
   "cell_type": "code",
   "execution_count": 2,
   "id": "7ada9fde-a762-4f52-82f9-1f429c7bb9b7",
   "metadata": {},
   "outputs": [
    {
     "name": "stdout",
     "output_type": "stream",
     "text": [
      "4\n"
     ]
    }
   ],
   "source": [
    "def arrayPairSum(nums):\n",
    "    nums.sort()\n",
    "    sum = 0\n",
    "    for i in range(0, len(nums), 2):\n",
    "        sum += nums[i]        \n",
    "    return sum \n",
    "\n",
    "\n",
    "nums = [1, 4, 3, 2]\n",
    "print(arrayPairSum(nums))\n"
   ]
  },
  {
   "cell_type": "markdown",
   "id": "50db8a89-10be-4435-884e-5524e3aa9427",
   "metadata": {},
   "source": [
    "#### Q. 2"
   ]
  },
  {
   "cell_type": "code",
   "execution_count": 5,
   "id": "ca37efe8-3688-4cb7-be72-c7eb891264a7",
   "metadata": {},
   "outputs": [
    {
     "name": "stdout",
     "output_type": "stream",
     "text": [
      "3\n"
     ]
    }
   ],
   "source": [
    "def diffcandy(candyType):\n",
    "    candy = set()\n",
    "    for candies in candyType:\n",
    "        candy.add(candies)\n",
    "    if len(candy) > len(candyType) / 2:\n",
    "        return len(candyType) / 2\n",
    "    else:\n",
    "        return len(candy)\n",
    "\n",
    "candyType = [1, 1, 2, 2, 3, 3]\n",
    "print(diffcandy(candyType))\n"
   ]
  },
  {
   "cell_type": "markdown",
   "id": "922813bc-673e-4f3d-9a01-511292eb9b5c",
   "metadata": {},
   "source": [
    "#### Q. 3."
   ]
  },
  {
   "cell_type": "code",
   "execution_count": 8,
   "id": "a11e6f69-fd01-4afc-830b-166d0f79092a",
   "metadata": {},
   "outputs": [
    {
     "name": "stdout",
     "output_type": "stream",
     "text": [
      "5\n"
     ]
    }
   ],
   "source": [
    "def find(nums):\n",
    "    numCounts = {}\n",
    "    for num in nums:\n",
    "        numCounts[num] = numCounts.get(num, 0) + 1\n",
    "    maxLen = 0 \n",
    "    for num in numCounts:\n",
    "        if num + 1 in numCounts:\n",
    "            maxLen = max(maxLen, numCounts[num] + numCounts[num + 1]) \n",
    "    return maxLen\n",
    "\n",
    "\n",
    "nums = [1, 3, 2, 2, 5, 2, 3, 7]\n",
    "print(find(nums))"
   ]
  },
  {
   "cell_type": "markdown",
   "id": "c1bc1ba3-1249-4f73-a362-4c638ff372fb",
   "metadata": {},
   "source": [
    "#### Q. 4."
   ]
  },
  {
   "cell_type": "code",
   "execution_count": 9,
   "id": "c5552be0-3426-4a1b-a41b-cc7377449c25",
   "metadata": {},
   "outputs": [
    {
     "name": "stdout",
     "output_type": "stream",
     "text": [
      "True\n"
     ]
    }
   ],
   "source": [
    "def canPlaceFlowers(flowerbed, n):\n",
    "    count = 0\n",
    "    i = 0\n",
    "    \n",
    "    while i < len(flowerbed):\n",
    "        if flowerbed[i] == 0:\n",
    "            if i == 0 or flowerbed[i-1] == 0:\n",
    "                if i == len(flowerbed) - 1 or flowerbed[i+1] == 0:\n",
    "                    flowerbed[i] = 1\n",
    "                    count += 1       \n",
    "        i += 1\n",
    "        if count >= n:\n",
    "            return True\n",
    "    return False\n",
    "\n",
    "flowerbed = [1, 0, 0, 0, 1]\n",
    "n = 1\n",
    "print(canPlaceFlowers(flowerbed, n))\n"
   ]
  },
  {
   "cell_type": "markdown",
   "id": "1205bcfe-aa48-4dbe-be5f-8ff260004276",
   "metadata": {},
   "source": [
    "#### Q. 5."
   ]
  },
  {
   "cell_type": "code",
   "execution_count": 2,
   "id": "671e6312-e8d1-4e33-b4df-7ef6fd2f1595",
   "metadata": {},
   "outputs": [
    {
     "data": {
      "text/plain": [
       "'maximum product is: 6'"
      ]
     },
     "execution_count": 2,
     "metadata": {},
     "output_type": "execute_result"
    }
   ],
   "source": [
    "def promax(nums):\n",
    "    product = 1\n",
    "    for i,num in enumerate(nums):\n",
    "        pro = (nums[num-1] * nums[num] * nums[num + 1])\n",
    "        if nums[num+1] == nums[-1]:\n",
    "            return (f\"maximum product is: {pro}\")\n",
    "\n",
    "promax([1,2,3])"
   ]
  },
  {
   "cell_type": "markdown",
   "id": "2b44efe3-30a9-446e-adfe-1e90aacded90",
   "metadata": {},
   "source": [
    "#### Q. 6"
   ]
  },
  {
   "cell_type": "code",
   "execution_count": 3,
   "id": "f242ade1-876e-42ef-b911-b6f39a531709",
   "metadata": {},
   "outputs": [
    {
     "name": "stdout",
     "output_type": "stream",
     "text": [
      "4\n"
     ]
    }
   ],
   "source": [
    "def tar(nums,target):\n",
    "    for index , num in enumerate(nums):\n",
    "        if num == target:\n",
    "            return index\n",
    "    return -1\n",
    "        \n",
    "result = tar([-1,0,3,5,9,12],9)\n",
    "print(result)"
   ]
  },
  {
   "cell_type": "markdown",
   "id": "6f254058-513f-4a85-a3c5-3702455f11c4",
   "metadata": {},
   "source": [
    "#### Q. 7."
   ]
  },
  {
   "cell_type": "code",
   "execution_count": 5,
   "id": "c9e4b421-7cd3-47d9-8222-fe12b0895753",
   "metadata": {},
   "outputs": [
    {
     "name": "stdout",
     "output_type": "stream",
     "text": [
      "True\n"
     ]
    }
   ],
   "source": [
    "def mono(nums):\n",
    "    increasing = decreasing = True\n",
    "\n",
    "    for i in range(1, len(nums)):\n",
    "        if nums[i] < nums[i - 1]:\n",
    "            increasing = False\n",
    "        if nums[i] > nums[i - 1]:\n",
    "            decreasing = False\n",
    "\n",
    "    return increasing or decreasing\n",
    "\n",
    "nums = [1, 2, 2, 3]\n",
    "print(mono(nums))\n"
   ]
  },
  {
   "cell_type": "markdown",
   "id": "24e09135-54ea-42e5-ba6c-b2a4fe84f9f8",
   "metadata": {},
   "source": [
    "#### Q. 8."
   ]
  },
  {
   "cell_type": "code",
   "execution_count": 3,
   "id": "b182ca52-9b8a-45a4-9edc-8e8097663712",
   "metadata": {},
   "outputs": [
    {
     "name": "stdout",
     "output_type": "stream",
     "text": [
      "0\n"
     ]
    }
   ],
   "source": [
    "def minScore(nums, k):\n",
    "    maximum = max(nums)\n",
    "    minimum = min(nums)\n",
    "\n",
    "    if maximum - minimum <= 2 * k:\n",
    "        return 0\n",
    "    else:\n",
    "        return maximum - minimum - 2 * k\n",
    "\n",
    "nums = [1]\n",
    "k = 0\n",
    "print(minScore(nums, k))\n"
   ]
  },
  {
   "cell_type": "code",
   "execution_count": null,
   "id": "c97510ba-96c7-44a6-a9ea-1f3638235e24",
   "metadata": {},
   "outputs": [],
   "source": []
  }
 ],
 "metadata": {
  "kernelspec": {
   "display_name": "Python 3 (ipykernel)",
   "language": "python",
   "name": "python3"
  },
  "language_info": {
   "codemirror_mode": {
    "name": "ipython",
    "version": 3
   },
   "file_extension": ".py",
   "mimetype": "text/x-python",
   "name": "python",
   "nbconvert_exporter": "python",
   "pygments_lexer": "ipython3",
   "version": "3.10.6"
  }
 },
 "nbformat": 4,
 "nbformat_minor": 5
}
