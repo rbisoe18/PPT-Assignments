{
 "cells": [
  {
   "cell_type": "markdown",
   "id": "60fa589d-8542-47c9-8ebe-0ba80524ef0f",
   "metadata": {},
   "source": [
    "#### Q. 1."
   ]
  },
  {
   "cell_type": "code",
   "execution_count": 3,
   "id": "765e0fb1-6771-4cbd-abeb-ed6d0b85f629",
   "metadata": {},
   "outputs": [
    {
     "name": "stdout",
     "output_type": "stream",
     "text": [
      "[1, 5]\n"
     ]
    }
   ],
   "source": [
    "def find_common_elements(arr1, arr2, arr3):\n",
    "    common_elements = []\n",
    "    i, j, k = 0, 0, 0\n",
    "\n",
    "    while i < len(arr1) and j < len(arr2) and k < len(arr3):\n",
    "        if arr1[i] == arr2[j] == arr3[k]:\n",
    "            common_elements.append(arr1[i])\n",
    "            i += 1\n",
    "            j += 1\n",
    "            k += 1\n",
    "        elif arr1[i] < arr2[j]:\n",
    "            i += 1\n",
    "        elif arr2[j] < arr3[k]:\n",
    "            j += 1\n",
    "        else:\n",
    "            k += 1\n",
    "\n",
    "    return common_elements\n",
    "\n",
    "arr1 = [1, 2, 3, 4, 5]\n",
    "arr2 = [1, 2, 5, 7, 9]\n",
    "arr3 = [1, 3, 4, 5, 8]\n",
    "\n",
    "result = find_common_elements(arr1, arr2, arr3)\n",
    "print(result)\n"
   ]
  },
  {
   "cell_type": "markdown",
   "id": "578f6bcf-0b3a-44b1-925b-04a78ff3575d",
   "metadata": {},
   "source": [
    "#### Q. 2."
   ]
  },
  {
   "cell_type": "code",
   "execution_count": 1,
   "id": "4c6d60a9-ba3b-458e-903e-884e9c36fed9",
   "metadata": {},
   "outputs": [
    {
     "name": "stdout",
     "output_type": "stream",
     "text": [
      "[[1, 3], [4, 6]]\n"
     ]
    }
   ],
   "source": [
    "def findDisjointArrays(nums1, nums2):\n",
    "    set1 = set(nums1)\n",
    "    set2 = set(nums2)\n",
    "    \n",
    "    answer = []\n",
    "    answer.append([nums1[i] for i in range(len(nums1)) if nums1[i] not in set2])  # Distinct integers in nums1 but not in nums2\n",
    "    answer.append([nums2[i] for i in range(len(nums2)) if nums2[i] not in set1])  # Distinct integers in nums2 but not in nums1\n",
    "    \n",
    "    return answer\n",
    "\n",
    "nums1 = [1, 2, 3]\n",
    "nums2 = [2, 4, 6]\n",
    "result = findDisjointArrays(nums1, nums2)\n",
    "print(result)"
   ]
  },
  {
   "cell_type": "markdown",
   "id": "60a7e2e3-6184-4284-806f-49558006c79a",
   "metadata": {},
   "source": [
    "#### Q. 3."
   ]
  },
  {
   "cell_type": "code",
   "execution_count": 2,
   "id": "75361c55-8f80-4ba4-9e4b-f04c81d7e1de",
   "metadata": {},
   "outputs": [
    {
     "name": "stdout",
     "output_type": "stream",
     "text": [
      "[[1, 4, 7], [2, 5, 8], [3, 6, 9]]\n"
     ]
    }
   ],
   "source": [
    "def transpose(A):\n",
    "    R = len(A)\n",
    "    C = len(A[0])\n",
    "    ans = [[0 for _ in range(R)] for _ in range(C)]\n",
    "    for r in range(R):\n",
    "        for c in range(C):\n",
    "            ans[c][r] = A[r][c]\n",
    "    return ans\n",
    "A = [[1, 2, 3], [4, 5, 6], [7, 8, 9]]\n",
    "result = transpose(A)\n",
    "print(result)"
   ]
  },
  {
   "cell_type": "markdown",
   "id": "b27252e0-f8a7-4351-a5ee-d257b44646f4",
   "metadata": {},
   "source": [
    "#### Q. 4."
   ]
  },
  {
   "cell_type": "code",
   "execution_count": 3,
   "id": "99074b11-0c63-407a-856f-467e99f451c6",
   "metadata": {},
   "outputs": [
    {
     "name": "stdout",
     "output_type": "stream",
     "text": [
      "4\n"
     ]
    }
   ],
   "source": [
    "def arrayPairSum(nums):\n",
    "    nums.sort()\n",
    "    sum = 0\n",
    "    for i in range(0, len(nums), 2):\n",
    "        sum += nums[i]        \n",
    "    return sum \n",
    "\n",
    "\n",
    "nums = [1, 4, 3, 2]\n",
    "print(arrayPairSum(nums))"
   ]
  },
  {
   "cell_type": "markdown",
   "id": "123d7e2e-263e-4dfa-8edb-cd0f93780111",
   "metadata": {},
   "source": [
    "#### Q. 5."
   ]
  },
  {
   "cell_type": "code",
   "execution_count": 7,
   "id": "05d0d65f-ee3d-437a-aa0f-1e799ff709a8",
   "metadata": {},
   "outputs": [
    {
     "name": "stdout",
     "output_type": "stream",
     "text": [
      "2\n"
     ]
    }
   ],
   "source": [
    "def arrangeCoins(n):\n",
    "    i = 1\n",
    "    while (i * (i + 1)) // 2 <= n:\n",
    "        i += 1\n",
    "    return i - 1\n",
    "\n",
    "n = 5\n",
    "result = arrangeCoins(n)\n",
    "print(result)"
   ]
  },
  {
   "cell_type": "markdown",
   "id": "f4b1d90a-ea1a-4c5d-ba8d-9017c951d0b4",
   "metadata": {},
   "source": [
    "#### Q. 6."
   ]
  },
  {
   "cell_type": "code",
   "execution_count": 8,
   "id": "9f0757dd-c643-4463-94c9-9698d8bc7031",
   "metadata": {},
   "outputs": [
    {
     "data": {
      "text/plain": [
       "[0, 1, 9, 16, 100]"
      ]
     },
     "execution_count": 8,
     "metadata": {},
     "output_type": "execute_result"
    }
   ],
   "source": [
    "def sqr(arr):\n",
    "    arr.sort()\n",
    "    new = []\n",
    "    for num in arr:\n",
    "        new.append(num**2)\n",
    "    return sorted(new)\n",
    "\n",
    "arr = [-4,-1,0,3,10]\n",
    "sqr(arr)"
   ]
  },
  {
   "cell_type": "markdown",
   "id": "c1ec2b37-2310-47f0-ac2a-7a36a9f733ca",
   "metadata": {},
   "source": [
    "#### Q.7. "
   ]
  },
  {
   "cell_type": "code",
   "execution_count": 9,
   "id": "ce28fd7e-345e-44cc-82e1-935f9f32aac8",
   "metadata": {},
   "outputs": [
    {
     "name": "stdout",
     "output_type": "stream",
     "text": [
      "4\n"
     ]
    }
   ],
   "source": [
    "def maxCount(m, n, ops):\n",
    "    if not ops:\n",
    "        return m * n\n",
    "\n",
    "    min_row = min(op[0] for op in ops)\n",
    "    min_col = min(op[1] for op in ops)\n",
    "\n",
    "    return min_row * min_col\n",
    "\n",
    "m = 3\n",
    "n = 3\n",
    "ops = [[2, 2], [3, 3]]\n",
    "result = maxCount(m, n, ops)\n",
    "print(result)\n"
   ]
  },
  {
   "cell_type": "markdown",
   "id": "d6c17817-bb4e-413b-b4de-8e381d28d28f",
   "metadata": {},
   "source": [
    "#### Q. 8."
   ]
  },
  {
   "cell_type": "code",
   "execution_count": 10,
   "id": "38ae6b7a-9823-4398-8221-7dbea79a6db0",
   "metadata": {},
   "outputs": [
    {
     "name": "stdout",
     "output_type": "stream",
     "text": [
      "[2, 3, 5, 4, 1, 7]\n"
     ]
    }
   ],
   "source": [
    "def shuffle(nums, n):\n",
    "    result = []\n",
    "    for i in range(n):\n",
    "        result.append(nums[i])\n",
    "        result.append(nums[i + n])\n",
    "    return result\n",
    "\n",
    "nums = [2, 5, 1, 3, 4, 7]\n",
    "n = 3\n",
    "result = shuffle(nums, n)\n",
    "print(result)\n"
   ]
  },
  {
   "cell_type": "code",
   "execution_count": null,
   "id": "90f600b9-1c1e-4082-abc6-f149e8b3601f",
   "metadata": {},
   "outputs": [],
   "source": []
  }
 ],
 "metadata": {
  "kernelspec": {
   "display_name": "Python 3 (ipykernel)",
   "language": "python",
   "name": "python3"
  },
  "language_info": {
   "codemirror_mode": {
    "name": "ipython",
    "version": 3
   },
   "file_extension": ".py",
   "mimetype": "text/x-python",
   "name": "python",
   "nbconvert_exporter": "python",
   "pygments_lexer": "ipython3",
   "version": "3.10.6"
  }
 },
 "nbformat": 4,
 "nbformat_minor": 5
}
