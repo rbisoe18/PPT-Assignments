{
 "cells": [
  {
   "cell_type": "markdown",
   "id": "ee984eec-aeee-43e5-9bba-759243cef8c8",
   "metadata": {},
   "source": [
    "#### Q. 1."
   ]
  },
  {
   "cell_type": "code",
   "execution_count": 10,
   "id": "db6052b0-aed7-4c5e-a470-1b351e3730bf",
   "metadata": {},
   "outputs": [
    {
     "name": "stdout",
     "output_type": "stream",
     "text": [
      "2\n"
     ]
    }
   ],
   "source": [
    "def three_sum_closest(nums, target):\n",
    "    nums.sort()\n",
    "    n = len(nums)\n",
    "    closest_sum = float('inf')\n",
    "\n",
    "    for i in range(n - 2):\n",
    "        left = i + 1\n",
    "        right = n - 1\n",
    "\n",
    "        while left < right:\n",
    "            current_sum = nums[i] + nums[left] + nums[right]\n",
    "\n",
    "            if current_sum == target:\n",
    "                return target\n",
    "\n",
    "            if abs(current_sum - target) < abs(closest_sum - target):\n",
    "                closest_sum = current_sum\n",
    "\n",
    "            if current_sum < target:\n",
    "                left += 1\n",
    "            else:\n",
    "                right -= 1\n",
    "\n",
    "    return closest_sum\n",
    "\n",
    "nums = [-1, 2, 1, -4]\n",
    "target = 1\n",
    "\n",
    "result = three_sum_closest(nums, target)\n",
    "print(result)\n"
   ]
  },
  {
   "cell_type": "markdown",
   "id": "3e897a62-ac11-47fa-8d80-c08f341c6798",
   "metadata": {},
   "source": [
    "#### Q. 2."
   ]
  },
  {
   "cell_type": "code",
   "execution_count": 2,
   "id": "1963214a-ed40-4dcc-aa13-944b7c9cdd93",
   "metadata": {},
   "outputs": [
    {
     "name": "stdout",
     "output_type": "stream",
     "text": [
      "[[-2, -1, 1, 2], [-2, 0, 0, 2], [-1, 0, 0, 1]]\n"
     ]
    }
   ],
   "source": [
    "def fourSum(nums, target):\n",
    "    nums.sort()\n",
    "    result = []\n",
    "    n = len(nums)\n",
    "\n",
    "    for i in range(n - 3):\n",
    "        if i > 0 and nums[i] == nums[i - 1]:\n",
    "            continue\n",
    "\n",
    "        for j in range(i + 1, n - 2):\n",
    "            if j > i + 1 and nums[j] == nums[j - 1]:\n",
    "                continue\n",
    "\n",
    "            left = j + 1\n",
    "            right = n - 1\n",
    "\n",
    "            while left < right:\n",
    "                curr_sum = nums[i] + nums[j] + nums[left] + nums[right]\n",
    "\n",
    "                if curr_sum == target:\n",
    "                    result.append([nums[i], nums[j], nums[left], nums[right]])\n",
    "\n",
    "                    while left < right and nums[left] == nums[left + 1]:\n",
    "                        left += 1\n",
    "                    while left < right and nums[right] == nums[right - 1]:\n",
    "                        right -= 1\n",
    "\n",
    "                    left += 1\n",
    "                    right -= 1\n",
    "                elif curr_sum < target:\n",
    "                    left += 1\n",
    "                else:\n",
    "                    right -= 1\n",
    "\n",
    "    return result\n",
    "nums = [1, 0, -1, 0, -2, 2]\n",
    "target = 0\n",
    "result = fourSum(nums, target)\n",
    "print(result)\n",
    "\n",
    "            "
   ]
  },
  {
   "cell_type": "markdown",
   "id": "47d8dfe6-f568-4435-9af8-e32c41961e67",
   "metadata": {},
   "source": [
    "#### Q.3."
   ]
  },
  {
   "cell_type": "code",
   "execution_count": 4,
   "id": "63ad6ac6-abdc-43bc-ac9c-537d4c9735cf",
   "metadata": {},
   "outputs": [
    {
     "name": "stdout",
     "output_type": "stream",
     "text": [
      "[1, 3, 2]\n"
     ]
    }
   ],
   "source": [
    "def nextPermutation(nums):\n",
    "    n = len(nums)\n",
    "    i = n - 2\n",
    "\n",
    "    while i >= 0 and nums[i] >= nums[i + 1]:\n",
    "        i -= 1\n",
    "\n",
    "    if i >= 0:\n",
    "        j = n - 1\n",
    "        \n",
    "        while j >= 0 and nums[i] >= nums[j]:\n",
    "            j -= 1\n",
    "            \n",
    "        nums[i], nums[j] = nums[j], nums[i]\n",
    "\n",
    "\n",
    "    left = i + 1\n",
    "    right = n - 1\n",
    "    while left < right:\n",
    "        nums[left], nums[right] = nums[right], nums[left]\n",
    "        left += 1\n",
    "        right -= 1\n",
    "\n",
    "    return nums\n",
    "\n",
    "nums = [1, 2, 3]\n",
    "result = nextPermutation(nums)\n",
    "print(result)\n"
   ]
  },
  {
   "cell_type": "markdown",
   "id": "e0e2b6eb-54cf-4e2a-be56-c4ae643855a1",
   "metadata": {},
   "source": [
    "#### Q.4"
   ]
  },
  {
   "cell_type": "code",
   "execution_count": 5,
   "id": "a8841228-0211-4176-b59f-83704acda5b3",
   "metadata": {},
   "outputs": [
    {
     "name": "stdout",
     "output_type": "stream",
     "text": [
      "index is:2\n"
     ]
    }
   ],
   "source": [
    "def searchInsert(nums, target):\n",
    "    left = 0\n",
    "    right = len(nums) - 1\n",
    "\n",
    "    while left <= right:\n",
    "        mid = (left + right) // 2\n",
    "\n",
    "        if nums[mid] == target:\n",
    "            return mid\n",
    "        elif nums[mid] < target:\n",
    "            left = mid + 1\n",
    "        else:\n",
    "            right = mid - 1\n",
    "\n",
    "    return left\n",
    "\n",
    "# Example\n",
    "nums = [1, 3, 5, 6]\n",
    "target = 5\n",
    "index = searchInsert(nums, target)\n",
    "print(f\"index is:{index}\")  # Output: 2\n"
   ]
  },
  {
   "cell_type": "markdown",
   "id": "81983576-c2ae-4966-93e3-6262a67b9828",
   "metadata": {},
   "source": [
    "#### Q. 5."
   ]
  },
  {
   "cell_type": "code",
   "execution_count": 6,
   "id": "5e412825-2aff-43f2-a67a-c60ab955c402",
   "metadata": {},
   "outputs": [
    {
     "name": "stdout",
     "output_type": "stream",
     "text": [
      "[1, 2, 4]\n"
     ]
    }
   ],
   "source": [
    "def increment(digits):\n",
    "    n = len(digits)\n",
    "    i = n - 1\n",
    "    carry = 1\n",
    "\n",
    "    while i >= 0 and carry > 0:\n",
    "        digits[i] += carry\n",
    "        carry = digits[i] // 10\n",
    "        digits[i] %= 10\n",
    "        i -= 1\n",
    "\n",
    "    if carry > 0:\n",
    "        digits.insert(0, carry)\n",
    "\n",
    "    return digits\n",
    "\n",
    "digits = [1, 2, 3]\n",
    "result = increment(digits)\n",
    "print(result)"
   ]
  },
  {
   "cell_type": "markdown",
   "id": "25ccde4c-f2bd-4e2f-8d36-2bed676c5fb9",
   "metadata": {},
   "source": [
    "#### Q. 6."
   ]
  },
  {
   "cell_type": "code",
   "execution_count": 7,
   "id": "2696d79b-f4bb-44f5-ba1c-548c5fe05ae2",
   "metadata": {},
   "outputs": [
    {
     "name": "stdout",
     "output_type": "stream",
     "text": [
      "1\n"
     ]
    }
   ],
   "source": [
    "def singleNumber(nums):\n",
    "    result = 0\n",
    "    for num in nums:\n",
    "        result ^= num\n",
    "    return result\n",
    "\n",
    "nums = [2, 2, 1]\n",
    "result = singleNumber(nums)\n",
    "print(result)"
   ]
  },
  {
   "cell_type": "markdown",
   "id": "849813a2-145c-4cd7-9553-1251a8e92a84",
   "metadata": {},
   "source": [
    "#### Q.7."
   ]
  },
  {
   "cell_type": "code",
   "execution_count": 10,
   "id": "088ec4c9-8743-4583-ae91-2f8f7c00cdc9",
   "metadata": {},
   "outputs": [
    {
     "name": "stdout",
     "output_type": "stream",
     "text": [
      "['2', '4,49', '51,74', '76,99']\n"
     ]
    }
   ],
   "source": [
    "def findMissingRanges(nums, lower, upper):\n",
    "    result = []\n",
    "    prev = lower - 1\n",
    "\n",
    "    for i in range(len(nums) + 1):\n",
    "        curr = nums[i] if i < len(nums) else upper + 1\n",
    "\n",
    "        if prev + 1 <= curr - 1:\n",
    "            result.append(getRange(prev + 1, curr - 1))\n",
    "\n",
    "        prev = curr\n",
    "\n",
    "    return result\n",
    "\n",
    "\n",
    "def getRange(start, end):\n",
    "    if start == end:\n",
    "        return str(start)\n",
    "    else:\n",
    "        return str(start) + \",\" + str(end)\n",
    "\n",
    "nums = [0, 1, 3, 50, 75]\n",
    "lower = 0\n",
    "upper = 99\n",
    "result = findMissingRanges(nums, lower, upper)\n",
    "print(result)\n"
   ]
  },
  {
   "cell_type": "markdown",
   "id": "04d8f0b2-614e-48c5-8c15-d5afa4375743",
   "metadata": {},
   "source": [
    "#### Q.8."
   ]
  },
  {
   "cell_type": "code",
   "execution_count": 13,
   "id": "8a87e5be-2292-4e8c-b456-55cfe387c27f",
   "metadata": {},
   "outputs": [
    {
     "name": "stdout",
     "output_type": "stream",
     "text": [
      "False\n"
     ]
    }
   ],
   "source": [
    "def Meetings(intervals):\n",
    "    intervals.sort(key=lambda x: x[0])  # Sort intervals based on start time\n",
    "\n",
    "    for i in range(1, len(intervals)):\n",
    "        if intervals[i][0] < intervals[i - 1][1]:\n",
    "            return False\n",
    "\n",
    "    return True\n",
    "\n",
    "intervals = [[0, 30], [5, 10], [15, 20]]\n",
    "result = Meetings(intervals)\n",
    "print(result)"
   ]
  },
  {
   "cell_type": "code",
   "execution_count": null,
   "id": "1d21fd01-a441-43c3-b76e-0290488f7889",
   "metadata": {},
   "outputs": [],
   "source": []
  }
 ],
 "metadata": {
  "kernelspec": {
   "display_name": "Python 3 (ipykernel)",
   "language": "python",
   "name": "python3"
  },
  "language_info": {
   "codemirror_mode": {
    "name": "ipython",
    "version": 3
   },
   "file_extension": ".py",
   "mimetype": "text/x-python",
   "name": "python",
   "nbconvert_exporter": "python",
   "pygments_lexer": "ipython3",
   "version": "3.10.6"
  }
 },
 "nbformat": 4,
 "nbformat_minor": 5
}
