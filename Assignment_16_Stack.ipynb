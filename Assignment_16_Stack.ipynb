{
 "cells": [
  {
   "cell_type": "markdown",
   "id": "2aef7f07-c356-4a7c-bec4-c41608f35a79",
   "metadata": {},
   "source": [
    "#### Q.1"
   ]
  },
  {
   "cell_type": "code",
   "execution_count": 9,
   "id": "4bffdb96-88e6-48ae-986d-43ee063957a1",
   "metadata": {},
   "outputs": [
    {
     "name": "stdout",
     "output_type": "stream",
     "text": [
      "[-1, 1, 1, 2, 3, 2, 1]\n"
     ]
    }
   ],
   "source": [
    "def nearestGreaterFrequency(arr):\n",
    "    frequency = {}\n",
    "    stack = []\n",
    "    result = [-1] * len(arr)\n",
    "\n",
    "    for num in arr:\n",
    "        frequency[num] = frequency.get(num, 0) + 1\n",
    "\n",
    "    for i in range(len(arr) - 1, -1, -1):\n",
    "        while stack and frequency[arr[stack[-1]]] <= frequency[arr[i]]:\n",
    "            index = stack.pop()\n",
    "            result[index] = arr[i]\n",
    "        stack.append(i)\n",
    "\n",
    "    return result\n",
    "\n",
    "print(nearestGreaterFrequency([1, 1, 2, 3, 4, 2, 1]))\n"
   ]
  },
  {
   "cell_type": "markdown",
   "id": "ded8719a-52a8-403e-aa1b-920be32452d5",
   "metadata": {},
   "source": [
    "#### Q.2."
   ]
  },
  {
   "cell_type": "code",
   "execution_count": 15,
   "id": "ce007e65-209a-4cf2-8312-2c6f2b14d8da",
   "metadata": {},
   "outputs": [
    {
     "name": "stdout",
     "output_type": "stream",
     "text": [
      "[98, 92, 34, 31, 23, 3]\n",
      "-----------------------------\n",
      "[8, 5, 4, 3, 2, 1]\n"
     ]
    }
   ],
   "source": [
    "def sortStack(stack):\n",
    "    tempStack = []\n",
    "\n",
    "    while stack:\n",
    "        temp = stack.pop()\n",
    "\n",
    "        while tempStack and tempStack[-1] > temp:\n",
    "            stack.append(tempStack.pop())\n",
    "\n",
    "        tempStack.append(temp)\n",
    "\n",
    "    while tempStack:\n",
    "        stack.append(tempStack.pop())\n",
    "\n",
    "    return stack\n",
    "\n",
    "print(sortStack([34, 3, 31, 98, 92, 23]))\n",
    "print(\"-----------------------------\")\n",
    "print(sortStack([3, 5, 1, 4, 2, 8]))"
   ]
  },
  {
   "cell_type": "markdown",
   "id": "a8f9338d-e832-43cb-a624-eafa11c2c500",
   "metadata": {},
   "source": [
    "#### Q.3"
   ]
  },
  {
   "cell_type": "code",
   "execution_count": 21,
   "id": "56c1fdfe-3381-44b5-9fd3-747c2d29d4bd",
   "metadata": {},
   "outputs": [
    {
     "name": "stdout",
     "output_type": "stream",
     "text": [
      "[1, 3, 4, 5]\n",
      "--------------------\n",
      "[1, 3, 4, 5, 6]\n"
     ]
    }
   ],
   "source": [
    "def deleteMiddle(stack, index, middle):\n",
    "    if index == middle:\n",
    "        stack.pop()\n",
    "        return\n",
    "\n",
    "    temp = stack.pop()\n",
    "    deleteMiddle(stack, index + 1, middle)\n",
    "    stack.append(temp)\n",
    "\n",
    "def deleteMiddleElement(stack):\n",
    "    size = len(stack)\n",
    "    middle = (size // 2) + 1\n",
    "\n",
    "    deleteMiddle(stack, 0, middle)\n",
    "\n",
    "    return stack\n",
    "\n",
    "print(deleteMiddleElement([1, 2, 3, 4, 5]))\n",
    "print(\"--------------------\")\n",
    "print(deleteMiddleElement([1, 2, 3, 4, 5, 6]))\n"
   ]
  },
  {
   "cell_type": "markdown",
   "id": "22c9a95b-72b6-45b9-add7-177739117cf8",
   "metadata": {},
   "source": [
    "#### Q.4"
   ]
  },
  {
   "cell_type": "code",
   "execution_count": 24,
   "id": "64da0ba0-df09-410a-a930-0148eb9caf6b",
   "metadata": {},
   "outputs": [
    {
     "name": "stdout",
     "output_type": "stream",
     "text": [
      "Yes\n",
      "-----\n",
      "No\n"
     ]
    }
   ],
   "source": [
    "from queue import Queue\n",
    "\n",
    "def checkIncreasingOrder(queue):\n",
    "    stack = []\n",
    "    secondQueue = Queue()\n",
    "\n",
    "    while not queue.empty():\n",
    "        front = queue.get()\n",
    "\n",
    "        if front in secondQueue.queue and front > stack[-1]:\n",
    "            return \"No\"\n",
    "\n",
    "        if front not in secondQueue.queue:\n",
    "            stack.append(front)\n",
    "\n",
    "    while stack:\n",
    "        top = stack.pop()\n",
    "        secondQueue.put(top)\n",
    "\n",
    "        if stack and top > secondQueue.queue[0]:\n",
    "            return \"No\"\n",
    "\n",
    "    return \"Yes\"\n",
    "\n",
    "queue1 = Queue()\n",
    "queue1.put(5)\n",
    "queue1.put(1)\n",
    "queue1.put(2)\n",
    "queue1.put(3)\n",
    "queue1.put(4)\n",
    "result1 = checkIncreasingOrder(queue1)\n",
    "print(result1)\n",
    "print(\"-----\")\n",
    "queue2 = Queue()\n",
    "queue2.put(5)\n",
    "queue2.put(1)\n",
    "queue2.put(2)\n",
    "queue2.put(6)\n",
    "queue2.put(3)\n",
    "queue2.put(4)\n",
    "result2 = checkIncreasingOrder(queue2)\n",
    "print(result2)\n"
   ]
  },
  {
   "cell_type": "markdown",
   "id": "43a3aca2-10f6-4f10-8610-98d191c0821a",
   "metadata": {},
   "source": [
    "#### Q.5"
   ]
  },
  {
   "cell_type": "code",
   "execution_count": 25,
   "id": "d7c7a921-a305-40c3-803c-e40cc2e4c725",
   "metadata": {},
   "outputs": [
    {
     "name": "stdout",
     "output_type": "stream",
     "text": [
      "563\n",
      "------\n",
      "9986\n"
     ]
    }
   ],
   "source": [
    "def reverseNumber(number):\n",
    "    stack = []\n",
    "\n",
    "    number_str = str(number)\n",
    "\n",
    "    for char in number_str:\n",
    "        stack.append(char)\n",
    "\n",
    "    reversed_str = \"\"\n",
    "    \n",
    "    while stack:\n",
    "        reversed_str += stack.pop()\n",
    "\n",
    "    reversed_number = int(reversed_str)\n",
    "\n",
    "    return reversed_number\n",
    "\n",
    "print(reverseNumber(365))  # Output: 563\n",
    "print(\"------\")\n",
    "print(reverseNumber(6899))  # Output: 9986\n"
   ]
  },
  {
   "cell_type": "markdown",
   "id": "ab87b14a-9c3f-43b7-86db-2bede97ac49d",
   "metadata": {},
   "source": [
    "#### Q.6"
   ]
  },
  {
   "cell_type": "code",
   "execution_count": 27,
   "id": "bfa6f9b2-48c7-4d51-952e-579839934179",
   "metadata": {},
   "outputs": [
    {
     "name": "stdout",
     "output_type": "stream",
     "text": [
      "3 2 1 4 5 "
     ]
    }
   ],
   "source": [
    "from queue import Queue\n",
    "\n",
    "def reverseFirstK(queue, k):\n",
    "    stack = []\n",
    "    for _ in range(k):\n",
    "        stack.append(queue.get())\n",
    "\n",
    "    while stack:\n",
    "        queue.put(stack.pop())\n",
    "\n",
    "    for _ in range(queue.qsize() - k):\n",
    "        queue.put(queue.get())\n",
    "\n",
    "    return queue\n",
    "\n",
    "queue = Queue()\n",
    "queue.put(1)\n",
    "queue.put(2)\n",
    "queue.put(3)\n",
    "queue.put(4)\n",
    "queue.put(5)\n",
    "\n",
    "k = 3\n",
    "\n",
    "result = reverseFirstK(queue, k)\n",
    "while not result.empty():\n",
    "    print(result.get(), end=\" \")  # Output: 3 2 1 4 5\n"
   ]
  },
  {
   "cell_type": "markdown",
   "id": "d3407755-ec8c-4fb0-8a95-7fbe553e9425",
   "metadata": {},
   "source": [
    "#### Q.7"
   ]
  },
  {
   "cell_type": "code",
   "execution_count": 31,
   "id": "c64cb258-89d4-4c92-864b-141bfb11d725",
   "metadata": {},
   "outputs": [
    {
     "name": "stdout",
     "output_type": "stream",
     "text": [
      "3\n",
      "-----\n",
      "0\n"
     ]
    }
   ],
   "source": [
    "def countWordsLeft(sequence):\n",
    "    stack = []\n",
    "\n",
    "    for word in sequence:\n",
    "        if stack and word == stack[-1]:\n",
    "            stack.pop()\n",
    "        else:\n",
    "            stack.append(word)\n",
    "\n",
    "    return len(stack)\n",
    "\n",
    "print(countWordsLeft(['ab', 'aa', 'aa', 'bcd', 'ab']))\n",
    "print(\"-----\")\n",
    "print(countWordsLeft(['tom', 'jerry', 'jerry', 'tom']))\n"
   ]
  },
  {
   "cell_type": "code",
   "execution_count": null,
   "id": "c4a174b9-41c6-4b25-be3a-5939ac715c1e",
   "metadata": {},
   "outputs": [],
   "source": []
  }
 ],
 "metadata": {
  "kernelspec": {
   "display_name": "Python 3 (ipykernel)",
   "language": "python",
   "name": "python3"
  },
  "language_info": {
   "codemirror_mode": {
    "name": "ipython",
    "version": 3
   },
   "file_extension": ".py",
   "mimetype": "text/x-python",
   "name": "python",
   "nbconvert_exporter": "python",
   "pygments_lexer": "ipython3",
   "version": "3.10.6"
  }
 },
 "nbformat": 4,
 "nbformat_minor": 5
}
