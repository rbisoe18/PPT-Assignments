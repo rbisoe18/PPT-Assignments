{
 "cells": [
  {
   "cell_type": "markdown",
   "id": "360245e6-2e58-4b4c-bba3-be841e6d6474",
   "metadata": {},
   "source": [
    "#### Q.1."
   ]
  },
  {
   "cell_type": "code",
   "execution_count": 8,
   "id": "7d1c8e67-2639-4e11-852a-9a62ce94512a",
   "metadata": {},
   "outputs": [
    {
     "name": "stdout",
     "output_type": "stream",
     "text": [
      "True\n"
     ]
    }
   ],
   "source": [
    "def isomorphic_strings(s, t):\n",
    "    if len(s) != len(t):\n",
    "        return False\n",
    "    \n",
    "    mapping = {}\n",
    "    used_chars = set()\n",
    "    \n",
    "    for i in range(len(s)):\n",
    "        if s[i] in mapping:\n",
    "            if mapping[s[i]] != t[i]:\n",
    "                return False\n",
    "        else:\n",
    "            if t[i] in used_chars:\n",
    "                return False\n",
    "            mapping[s[i]] = t[i]\n",
    "            used_chars.add(t[i])\n",
    "            \n",
    "    return True\n",
    "\n",
    "s = \"egg\"\n",
    "t = \"add\"\n",
    "print(isomorphic_strings(s, t))"
   ]
  },
  {
   "cell_type": "markdown",
   "id": "1a2dd145-54b0-4104-b579-afd151d1355a",
   "metadata": {},
   "source": [
    "#### Q.2"
   ]
  },
  {
   "cell_type": "code",
   "execution_count": 13,
   "id": "e396a149-bdce-48e6-8959-67f6dc26b87d",
   "metadata": {},
   "outputs": [
    {
     "name": "stdout",
     "output_type": "stream",
     "text": [
      "True\n"
     ]
    }
   ],
   "source": [
    "def is_strobogrammatic(num):\n",
    "    valid_pairs = {'0': '0', '1': '1', '6': '9', '8': '8', '9': '6'}\n",
    "    rotated_num = ''\n",
    "    \n",
    "    for char in num:\n",
    "        if char not in valid_pairs:\n",
    "            return False\n",
    "        rotated_num = valid_pairs[char] + rotated_num\n",
    "    \n",
    "    return num == rotated_num\n",
    "\n",
    "num = \"69\"\n",
    "print(is_strobogrammatic(num))\n"
   ]
  },
  {
   "cell_type": "markdown",
   "id": "050a719c-9909-4609-bb0e-ab77e2170413",
   "metadata": {},
   "source": [
    "#### Q.3."
   ]
  },
  {
   "cell_type": "code",
   "execution_count": 29,
   "id": "60be717a-eb41-45a9-9a66-df7fdc135dda",
   "metadata": {},
   "outputs": [
    {
     "name": "stdout",
     "output_type": "stream",
     "text": [
      "134\n"
     ]
    }
   ],
   "source": [
    "def addStrings(num1, num2):\n",
    "    result = \"\"\n",
    "    carry = 0\n",
    "    i = len(num1) - 1\n",
    "    j = len(num2) - 1\n",
    "    \n",
    "    while i >= 0 or j >= 0 or carry > 0:\n",
    "        digit_sum = carry\n",
    "\n",
    "        if i >= 0:\n",
    "            digit_sum += int(num1[i])\n",
    "            i -= 1\n",
    "        \n",
    "        if j >= 0:\n",
    "            digit_sum += int(num2[j])\n",
    "            j -= 1\n",
    "        \n",
    "        result = str(digit_sum % 10) + result\n",
    "        carry = digit_sum // 10\n",
    "    \n",
    "    return result\n",
    "\n",
    "num1 = \"11\"\n",
    "num2 = \"123\"\n",
    "print(addStrings(num1, num2))\n"
   ]
  },
  {
   "cell_type": "markdown",
   "id": "f97325d7-e11b-4e65-ab25-8747bc95c5d4",
   "metadata": {},
   "source": [
    "#### Q.4."
   ]
  },
  {
   "cell_type": "code",
   "execution_count": 46,
   "id": "4849366e-0ef7-4154-9a45-a17d8c1437c3",
   "metadata": {},
   "outputs": [
    {
     "name": "stdout",
     "output_type": "stream",
     "text": [
      "s'teL ekat edoCteeL tsetnoc\n"
     ]
    }
   ],
   "source": [
    "def reverse_words(s):\n",
    "    words = s.split()\n",
    "    reversed_words = [word[::-1] for word in words]\n",
    "    return ' '.join(reversed_words)\n",
    "\n",
    "s = \"Let's take LeetCode contest\"\n",
    "print(reverse_words(s))\n"
   ]
  },
  {
   "cell_type": "markdown",
   "id": "d2cf308b-a58d-4755-8516-3982e48dc80b",
   "metadata": {},
   "source": [
    "#### Q.5."
   ]
  },
  {
   "cell_type": "code",
   "execution_count": 61,
   "id": "a5ea4a25-90e5-4759-8fbf-0b16c554d3b9",
   "metadata": {},
   "outputs": [
    {
     "name": "stdout",
     "output_type": "stream",
     "text": [
      "bacdfeg\n"
     ]
    }
   ],
   "source": [
    "def reverse_str(s, k):\n",
    "    chars = list(s)\n",
    "\n",
    "    for i in range(0, len(chars), 2*k):\n",
    "        chars[i:i+k] = chars[i:i+k][::-1]\n",
    "    return ''.join(chars)\n",
    "\n",
    "s = \"abcdefg\"\n",
    "k = 2\n",
    "print(reverse_str(s, k))\n"
   ]
  },
  {
   "cell_type": "markdown",
   "id": "9a2af9db-e795-4884-924d-2cf4fc9d1d99",
   "metadata": {},
   "source": [
    "#### Q.6."
   ]
  },
  {
   "cell_type": "code",
   "execution_count": 66,
   "id": "64b19fb7-4715-4f00-8e8b-c20f134e0805",
   "metadata": {},
   "outputs": [
    {
     "name": "stdout",
     "output_type": "stream",
     "text": [
      "True\n"
     ]
    }
   ],
   "source": [
    "def can_shift_to_goal(s, goal):\n",
    "    if len(s) != len(goal):\n",
    "        return False\n",
    "    \n",
    "    shifted_s = s + s\n",
    "\n",
    "    return goal in shifted_s\n",
    "\n",
    "# Test example\n",
    "s = \"abcde\"\n",
    "goal = \"cdeab\"\n",
    "print(can_shift_to_goal(s, goal))  # Output: True\n"
   ]
  },
  {
   "cell_type": "markdown",
   "id": "bacfd3cf-28e2-47d5-91aa-d05d0761d90a",
   "metadata": {},
   "source": [
    "#### Q.7."
   ]
  },
  {
   "cell_type": "code",
   "execution_count": 67,
   "id": "25e2679a-71fb-4b3a-a151-a7ad9a01634d",
   "metadata": {},
   "outputs": [
    {
     "name": "stdout",
     "output_type": "stream",
     "text": [
      "True\n"
     ]
    }
   ],
   "source": [
    "def backspace_compare(s, t):\n",
    "    def build_string(string):\n",
    "        stack = []\n",
    "        for char in string:\n",
    "            if char != '#':\n",
    "                stack.append(char)\n",
    "            elif stack:\n",
    "                stack.pop()\n",
    "        return ''.join(stack)\n",
    "\n",
    "    return build_string(s) == build_string(t)\n",
    "\n",
    "s = \"ab#c\"\n",
    "t = \"ad#c\"\n",
    "print(backspace_compare(s, t))\n"
   ]
  },
  {
   "cell_type": "markdown",
   "id": "0ab6768b-84a5-493c-94f3-7376d1db2d3e",
   "metadata": {},
   "source": [
    "#### Q.8."
   ]
  },
  {
   "cell_type": "code",
   "execution_count": 68,
   "id": "23e1204f-ab37-4db6-bd7a-d619f615ded4",
   "metadata": {},
   "outputs": [
    {
     "name": "stdout",
     "output_type": "stream",
     "text": [
      "True\n"
     ]
    }
   ],
   "source": [
    "def check_straight_line(coordinates):\n",
    "    if len(coordinates) <= 2:\n",
    "        return True\n",
    "\n",
    "    x0, y0 = coordinates[0]\n",
    "    x1, y1 = coordinates[1]\n",
    "    for i in range(2, len(coordinates)):\n",
    "        x, y = coordinates[i]\n",
    "        if (y1 - y0) * (x - x0) != (y - y0) * (x1 - x0):\n",
    "            return False\n",
    "    return True\n",
    "\n",
    "coordinates = [[1,2],[2,3],[3,4],[4,5],[5,6],[6,7]]\n",
    "print(check_straight_line(coordinates))"
   ]
  },
  {
   "cell_type": "code",
   "execution_count": null,
   "id": "3d25fcad-77d6-4ed4-9fd6-d5a3a31de4c7",
   "metadata": {},
   "outputs": [],
   "source": []
  }
 ],
 "metadata": {
  "kernelspec": {
   "display_name": "Python 3 (ipykernel)",
   "language": "python",
   "name": "python3"
  },
  "language_info": {
   "codemirror_mode": {
    "name": "ipython",
    "version": 3
   },
   "file_extension": ".py",
   "mimetype": "text/x-python",
   "name": "python",
   "nbconvert_exporter": "python",
   "pygments_lexer": "ipython3",
   "version": "3.10.6"
  }
 },
 "nbformat": 4,
 "nbformat_minor": 5
}
