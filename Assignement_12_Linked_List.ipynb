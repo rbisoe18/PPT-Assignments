{
 "cells": [
  {
   "cell_type": "markdown",
   "id": "10602d0d-c989-404f-bf64-4cd6eb87463b",
   "metadata": {},
   "source": [
    "#### Q.1"
   ]
  },
  {
   "cell_type": "code",
   "execution_count": 8,
   "id": "d19acec6-cff0-417d-9f40-79e55025db5f",
   "metadata": {},
   "outputs": [
    {
     "name": "stdout",
     "output_type": "stream",
     "text": [
      "1 2 4 5 \n",
      "-------\n",
      "2 4 6 5 1 "
     ]
    }
   ],
   "source": [
    "class Node:\n",
    "    def __init__(self, data=None):\n",
    "        self.data = data\n",
    "        self.next = None\n",
    "\n",
    "def delete_middle(head):\n",
    "    if head is None or head.next is None:\n",
    "        return None\n",
    "    \n",
    "    slow_ptr = head\n",
    "    fast_ptr = head\n",
    "    prev_ptr = None\n",
    "    \n",
    "    while fast_ptr is not None and fast_ptr.next is not None:\n",
    "        fast_ptr = fast_ptr.next.next\n",
    "        prev_ptr = slow_ptr\n",
    "        slow_ptr = slow_ptr.next\n",
    "    \n",
    "    prev_ptr.next = slow_ptr.next\n",
    "    \n",
    "    return head\n",
    "\n",
    "# Example 1\n",
    "head1 = Node(1)\n",
    "head1.next = Node(2)\n",
    "head1.next.next = Node(3)\n",
    "head1.next.next.next = Node(4)\n",
    "head1.next.next.next.next = Node(5)\n",
    "\n",
    "result1 = delete_middle(head1)\n",
    "while result1 is not None:\n",
    "    print(result1.data, end=\" \")\n",
    "    result1 = result1.next\n",
    "# Output: 1 2 4 5\n",
    "print(\"\\n-------\")\n",
    "\n",
    "# Example 2\n",
    "head2 = Node(2)\n",
    "head2.next = Node(4)\n",
    "head2.next.next = Node(6)\n",
    "head2.next.next.next = Node(7)\n",
    "head2.next.next.next.next = Node(5)\n",
    "head2.next.next.next.next.next = Node(1)\n",
    "\n",
    "result2 = delete_middle(head2)\n",
    "while result2 is not None:\n",
    "    print(result2.data, end=\" \")\n",
    "    result2 = result2.next\n",
    "# Output: 2 4 6 5 1\n"
   ]
  },
  {
   "cell_type": "markdown",
   "id": "db064ae2-a8f3-4e79-bb6c-7d96688c2f35",
   "metadata": {},
   "source": [
    "#### Q.2"
   ]
  },
  {
   "cell_type": "code",
   "execution_count": 11,
   "id": "90060c84-9849-4f9a-9f4c-48901b46c955",
   "metadata": {},
   "outputs": [
    {
     "name": "stdout",
     "output_type": "stream",
     "text": [
      "True\n",
      "-------\n",
      "False\n"
     ]
    }
   ],
   "source": [
    "class Node:\n",
    "    def __init__(self, data=None):\n",
    "        self.data = data\n",
    "        self.next = None\n",
    "\n",
    "def has_loop(head):\n",
    "    if head is None:\n",
    "        return False\n",
    "    \n",
    "    slow_ptr = head\n",
    "    fast_ptr = head.next\n",
    "    \n",
    "    while fast_ptr is not None and fast_ptr.next is not None:\n",
    "        if slow_ptr == fast_ptr:\n",
    "            return True\n",
    "        slow_ptr = slow_ptr.next\n",
    "        fast_ptr = fast_ptr.next.next\n",
    "    \n",
    "    return False\n",
    "\n",
    "# Example 1\n",
    "head1 = Node(1)\n",
    "head1.next = Node(3)\n",
    "head1.next.next = Node(4)\n",
    "head1.next.next.next = head1.next\n",
    "\n",
    "result1 = has_loop(head1)\n",
    "print(result1)\n",
    "# Output: True\n",
    "print(\"-------\")\n",
    "# Example 2\n",
    "head2 = Node(1)\n",
    "head2.next = Node(8)\n",
    "head2.next.next = Node(3)\n",
    "head2.next.next.next = Node(4)\n",
    "\n",
    "result2 = has_loop(head2)\n",
    "print(result2)\n",
    "# Output: False\n"
   ]
  },
  {
   "cell_type": "markdown",
   "id": "e505f205-33d3-4621-8af4-ff1473a06e43",
   "metadata": {},
   "source": [
    "#### Q.3"
   ]
  },
  {
   "cell_type": "code",
   "execution_count": 12,
   "id": "ed2072a3-82f9-4394-8ec5-6644a9a678d5",
   "metadata": {},
   "outputs": [
    {
     "name": "stdout",
     "output_type": "stream",
     "text": [
      "8\n",
      "-------\n",
      "-1\n"
     ]
    }
   ],
   "source": [
    "class Node:\n",
    "    def __init__(self, data=None):\n",
    "        self.data = data\n",
    "        self.next = None\n",
    "\n",
    "def find_nth_from_end(head, n):\n",
    "    if head is None:\n",
    "        return -1\n",
    "    \n",
    "    main_ptr = head\n",
    "    ref_ptr = head\n",
    "    \n",
    "    for _ in range(n):\n",
    "        if ref_ptr is None:\n",
    "            return -1\n",
    "        ref_ptr = ref_ptr.next\n",
    "    \n",
    "    while ref_ptr is not None:\n",
    "        main_ptr = main_ptr.next\n",
    "        ref_ptr = ref_ptr.next\n",
    "    \n",
    "    return main_ptr.data\n",
    "\n",
    "# Example 1\n",
    "head1 = Node(1)\n",
    "head1.next = Node(2)\n",
    "head1.next.next = Node(3)\n",
    "head1.next.next.next = Node(4)\n",
    "head1.next.next.next.next = Node(5)\n",
    "head1.next.next.next.next.next = Node(6)\n",
    "head1.next.next.next.next.next.next = Node(7)\n",
    "head1.next.next.next.next.next.next.next = Node(8)\n",
    "head1.next.next.next.next.next.next.next.next = Node(9)\n",
    "\n",
    "result1 = find_nth_from_end(head1, 2)\n",
    "print(result1)\n",
    "# Output: 8\n",
    "print(\"-------\")\n",
    "# Example 2\n",
    "head2 = Node(10)\n",
    "head2.next = Node(5)\n",
    "head2.next.next = Node(100)\n",
    "head2.next.next.next = Node(5)\n",
    "\n",
    "result2 = find_nth_from_end(head2, 5)\n",
    "print(result2)\n",
    "# Output: -1\n"
   ]
  },
  {
   "cell_type": "markdown",
   "id": "096c9e90-f2fc-4a27-a709-972046fa4a32",
   "metadata": {},
   "source": [
    "#### Q.4"
   ]
  },
  {
   "cell_type": "code",
   "execution_count": 13,
   "id": "38debc99-02e9-468b-8562-7047e65b6a7e",
   "metadata": {},
   "outputs": [
    {
     "name": "stdout",
     "output_type": "stream",
     "text": [
      "True\n",
      "-------\n",
      "False\n"
     ]
    }
   ],
   "source": [
    "class Node:\n",
    "    def __init__(self, data=None):\n",
    "        self.data = data\n",
    "        self.next = None\n",
    "\n",
    "def is_palindrome(head):\n",
    "    if head is None or head.next is None:\n",
    "        return True\n",
    "    \n",
    "    stack = []\n",
    "    current = head\n",
    "    \n",
    "    while current is not None:\n",
    "        stack.append(current.data)\n",
    "        current = current.next\n",
    "    \n",
    "    current = head\n",
    "    \n",
    "    while current is not None:\n",
    "        if current.data != stack.pop():\n",
    "            return False\n",
    "        current = current.next\n",
    "    \n",
    "    return True\n",
    "\n",
    "# Example 1\n",
    "head1 = Node('R')\n",
    "head1.next = Node('A')\n",
    "head1.next.next = Node('D')\n",
    "head1.next.next.next = Node('A')\n",
    "head1.next.next.next.next = Node('R')\n",
    "\n",
    "result1 = is_palindrome(head1)\n",
    "print(result1)\n",
    "# Output: True\n",
    "print(\"-------\")\n",
    "# Example 2\n",
    "head2 = Node('C')\n",
    "head2.next = Node('O')\n",
    "head2.next.next = Node('D')\n",
    "head2.next.next.next = Node('E')\n",
    "\n",
    "result2 = is_palindrome(head2)\n",
    "print(result2)\n",
    "# Output: False\n"
   ]
  },
  {
   "cell_type": "markdown",
   "id": "d4fbbd02-fd97-4e01-9c8a-cc85065c35cb",
   "metadata": {},
   "source": [
    "#### Q.5"
   ]
  },
  {
   "cell_type": "code",
   "execution_count": 17,
   "id": "81f535ef-ac93-4ce5-ae3d-39940ac98bca",
   "metadata": {},
   "outputs": [
    {
     "name": "stdout",
     "output_type": "stream",
     "text": [
      "1 3 4 \n",
      "-------\n",
      "1 8 3 4 \n",
      "-------\n",
      "1 "
     ]
    }
   ],
   "source": [
    "class Node:\n",
    "    def __init__(self, data=None):\n",
    "        self.data = data\n",
    "        self.next = None\n",
    "\n",
    "def detect_and_remove_loop(head):\n",
    "    if head is None or head.next is None:\n",
    "        return\n",
    "    \n",
    "    slow_ptr = head\n",
    "    fast_ptr = head\n",
    "    \n",
    "    while fast_ptr is not None and fast_ptr.next is not None:\n",
    "        slow_ptr = slow_ptr.next\n",
    "        fast_ptr = fast_ptr.next.next\n",
    "        if slow_ptr == fast_ptr:\n",
    "            break\n",
    "    \n",
    "    if slow_ptr != fast_ptr:\n",
    "        return\n",
    "    \n",
    "    slow_ptr = head\n",
    "    while slow_ptr.next != fast_ptr.next:\n",
    "        slow_ptr = slow_ptr.next\n",
    "        fast_ptr = fast_ptr.next\n",
    "    \n",
    "    fast_ptr.next = None\n",
    "\n",
    "# Example 1\n",
    "head1 = Node(1)\n",
    "head1.next = Node(3)\n",
    "head1.next.next = Node(4)\n",
    "head1.next.next.next = head1.next\n",
    "\n",
    "detect_and_remove_loop(head1)\n",
    "\n",
    "current = head1\n",
    "while current is not None:\n",
    "    print(current.data, end=\" \")\n",
    "    current = current.next\n",
    "# Output: 1 3 4\n",
    "print(\"\\n-------\")\n",
    "# Example 2\n",
    "head2 = Node(1)\n",
    "head2.next = Node(8)\n",
    "head2.next.next = Node(3)\n",
    "head2.next.next.next = Node(4)\n",
    "\n",
    "detect_and_remove_loop(head2)\n",
    "\n",
    "\n",
    "current = head2\n",
    "while current is not None:\n",
    "    print(current.data, end=\" \")\n",
    "    current = current.next\n",
    "# Output: 1 8 3 4\n",
    "print(\"\\n-------\")\n",
    "# Example 3\n",
    "head3 = Node(1)\n",
    "head3.next = Node(2)\n",
    "head3.next.next = Node(3)\n",
    "head3.next.next.next = Node(4)\n",
    "head3.next.next.next.next = head3\n",
    "\n",
    "detect_and_remove_loop(head3)\n",
    "\n",
    "current = head3\n",
    "while current is not None:\n",
    "    print(current.data, end=\" \")\n",
    "    current = current.next\n",
    "# Output: 1 2 3 4\n"
   ]
  },
  {
   "cell_type": "markdown",
   "id": "0e6f1f96-62e2-4c81-888d-8fc06cdceae9",
   "metadata": {},
   "source": [
    "#### Q.7"
   ]
  },
  {
   "cell_type": "code",
   "execution_count": 19,
   "id": "8371ea06-a0ca-497e-9148-03315d058c84",
   "metadata": {},
   "outputs": [
    {
     "name": "stdout",
     "output_type": "stream",
     "text": [
      "5->12->7->10->17->2->13->4->11->6->"
     ]
    }
   ],
   "source": [
    "class Node:\n",
    "    def __init__(self, data=None):\n",
    "        self.data = data\n",
    "        self.next = None\n",
    "\n",
    "def insert_at_alternate_positions(first_head, second_head):\n",
    "    if first_head is None or second_head is None:\n",
    "        return first_head\n",
    "\n",
    "    first_ptr = first_head\n",
    "    second_ptr = second_head\n",
    "\n",
    "    while first_ptr is not None and second_ptr is not None:\n",
    "        first_next = first_ptr.next\n",
    "        second_next = second_ptr.next\n",
    "\n",
    "        first_ptr.next = second_ptr\n",
    "        second_ptr.next = first_next\n",
    "\n",
    "        first_ptr = first_next\n",
    "        second_ptr = second_next\n",
    "\n",
    "    if second_ptr is not None:\n",
    "        first_ptr.next = second_ptr\n",
    "\n",
    "    second_head = None\n",
    "\n",
    "    return first_head\n",
    "\n",
    "# Create the first linked list: 5->7->17->13->11\n",
    "first_head = Node(5)\n",
    "first_head.next = Node(7)\n",
    "first_head.next.next = Node(17)\n",
    "first_head.next.next.next = Node(13)\n",
    "first_head.next.next.next.next = Node(11)\n",
    "\n",
    "# Create the second linked list: 12->10->2->4->6\n",
    "second_head = Node(12)\n",
    "second_head.next = Node(10)\n",
    "second_head.next.next = Node(2)\n",
    "second_head.next.next.next = Node(4)\n",
    "second_head.next.next.next.next = Node(6)\n",
    "\n",
    "first_head = insert_at_alternate_positions(first_head, second_head)\n",
    "\n",
    "\n",
    "current = first_head\n",
    "while current is not None:\n",
    "    print(current.data, end=\"->\")\n",
    "    current = current.next\n",
    "\n",
    "# Output: 5->12->7->10->17->2->13->4->11->6->\n"
   ]
  },
  {
   "cell_type": "markdown",
   "id": "f73f41f4-65ab-4505-8c38-17ec2356c5de",
   "metadata": {},
   "source": [
    "#### Q.8"
   ]
  },
  {
   "cell_type": "code",
   "execution_count": 20,
   "id": "0eaea960-ce1b-4ff5-bf78-330dde3d29d3",
   "metadata": {},
   "outputs": [
    {
     "name": "stdout",
     "output_type": "stream",
     "text": [
      "True\n"
     ]
    }
   ],
   "source": [
    "class Node:\n",
    "    def __init__(self, data=None):\n",
    "        self.data = data\n",
    "        self.next = None\n",
    "\n",
    "def is_circular_linked_list(head):\n",
    "    if head is None:\n",
    "        return False\n",
    "\n",
    "    slow = head\n",
    "    fast = head\n",
    "\n",
    "    while fast is not None and fast.next is not None:\n",
    "        slow = slow.next\n",
    "        fast = fast.next.next\n",
    "\n",
    "        if slow == fast:\n",
    "            return True\n",
    "\n",
    "    return False\n",
    "# Create a circular linked list: 1->2->3->4->5->2\n",
    "head = Node(1)\n",
    "head.next = Node(2)\n",
    "head.next.next = Node(3)\n",
    "head.next.next.next = Node(4)\n",
    "head.next.next.next.next = Node(5)\n",
    "head.next.next.next.next.next = head.next\n",
    "\n",
    "result = is_circular_linked_list(head)\n",
    "print(result)  # Output: True\n"
   ]
  },
  {
   "cell_type": "code",
   "execution_count": null,
   "id": "277425c0-40c6-4f9a-b1b6-1a276f84aa7c",
   "metadata": {},
   "outputs": [],
   "source": []
  }
 ],
 "metadata": {
  "kernelspec": {
   "display_name": "Python 3 (ipykernel)",
   "language": "python",
   "name": "python3"
  },
  "language_info": {
   "codemirror_mode": {
    "name": "ipython",
    "version": 3
   },
   "file_extension": ".py",
   "mimetype": "text/x-python",
   "name": "python",
   "nbconvert_exporter": "python",
   "pygments_lexer": "ipython3",
   "version": "3.10.6"
  }
 },
 "nbformat": 4,
 "nbformat_minor": 5
}
