{
 "cells": [
  {
   "cell_type": "markdown",
   "id": "499440e7-4c1d-4225-873a-a94f4f892b59",
   "metadata": {},
   "source": [
    "#### Q.1."
   ]
  },
  {
   "cell_type": "code",
   "execution_count": 3,
   "id": "c7282495-6689-400a-9afa-769a5ac18aa3",
   "metadata": {},
   "outputs": [
    {
     "data": {
      "text/plain": [
       "231"
      ]
     },
     "execution_count": 3,
     "metadata": {},
     "output_type": "execute_result"
    }
   ],
   "source": [
    "def minimumDeleteSum(s1, s2):\n",
    "    m, n = len(s1), len(s2)\n",
    "    dp = [[0] * (n + 1) for _ in range(m + 1)]\n",
    "\n",
    "    # Fill in the base cases\n",
    "    for i in range(1, m + 1):\n",
    "        dp[i][0] = dp[i-1][0] + ord(s1[i-1])\n",
    "    for j in range(1, n + 1):\n",
    "        dp[0][j] = dp[0][j-1] + ord(s2[j-1])\n",
    "\n",
    "    # Fill in the rest of the dp array\n",
    "    for i in range(1, m + 1):\n",
    "        for j in range(1, n + 1):\n",
    "            if s1[i-1] == s2[j-1]:\n",
    "                dp[i][j] = dp[i-1][j-1]\n",
    "            else:\n",
    "                dp[i][j] = min(dp[i-1][j] + ord(s1[i-1]), dp[i][j-1] + ord(s2[j-1]))\n",
    "\n",
    "    return dp[m][n]\n",
    "\n",
    "s1 = \"sea\"\n",
    "s2 = \"eat\"\n",
    "minimumDeleteSum(s1, s2)"
   ]
  },
  {
   "cell_type": "markdown",
   "id": "bc15f779-e238-4229-bf73-d9495ca23ce6",
   "metadata": {},
   "source": [
    "#### Q.2."
   ]
  },
  {
   "cell_type": "code",
   "execution_count": 8,
   "id": "4868ad5e-bb57-4acd-9020-78e3cb34e888",
   "metadata": {},
   "outputs": [
    {
     "data": {
      "text/plain": [
       "True"
      ]
     },
     "execution_count": 8,
     "metadata": {},
     "output_type": "execute_result"
    }
   ],
   "source": [
    "def isValid(s):\n",
    "    stack = []\n",
    "\n",
    "    for c in s:\n",
    "        if c == '(' or c == '*':\n",
    "            stack.append(c)\n",
    "        elif c == ')':\n",
    "            if stack and stack[-1] == '(':\n",
    "                stack.pop()\n",
    "            elif stack and stack[-1] == '*':\n",
    "                stack.pop()\n",
    "            else:\n",
    "                return False\n",
    "\n",
    "    while stack and stack[-1] == '(':\n",
    "        stack.pop()\n",
    "\n",
    "    return len(stack) == 0\n",
    "\n",
    "s = \"()\"\n",
    "isValid(s)"
   ]
  },
  {
   "cell_type": "markdown",
   "id": "708941b1-1441-4a4f-a9c1-c193485b8173",
   "metadata": {},
   "source": [
    "#### Q.3."
   ]
  },
  {
   "cell_type": "code",
   "execution_count": 9,
   "id": "c5f93e70-af3b-4658-951e-3e2e0114091c",
   "metadata": {},
   "outputs": [
    {
     "name": "stdout",
     "output_type": "stream",
     "text": [
      "2\n"
     ]
    }
   ],
   "source": [
    "def minDistance(word1, word2):\n",
    "    m, n = len(word1), len(word2)\n",
    "    dp = [[0] * (n+1) for _ in range(m+1)]\n",
    "\n",
    "    for i in range(m+1):\n",
    "        for j in range(n+1):\n",
    "            if i == 0 or j == 0:\n",
    "                dp[i][j] = 0\n",
    "            elif word1[i-1] == word2[j-1]:\n",
    "                dp[i][j] = dp[i-1][j-1] + 1\n",
    "            else:\n",
    "                dp[i][j] = max(dp[i-1][j], dp[i][j-1])\n",
    "\n",
    "    return m + n - 2 * dp[m][n]\n",
    "word1 = \"sea\"\n",
    "word2 = \"eat\"\n",
    "print(minDistance(word1, word2))\n"
   ]
  },
  {
   "cell_type": "markdown",
   "id": "5cdf2113-0d99-4b46-bf87-9e13e76a8934",
   "metadata": {},
   "source": [
    "#### Q.4."
   ]
  },
  {
   "cell_type": "code",
   "execution_count": 2,
   "id": "c0aa48f6-ed1b-4a73-99c9-85a704cd6397",
   "metadata": {},
   "outputs": [
    {
     "name": "stdout",
     "output_type": "stream",
     "text": [
      "[4, 2, 3, 1, 6, 5]\n"
     ]
    }
   ],
   "source": [
    "class TreeNode:\n",
    "    def __init__(self, val=0, left=None, right=None):\n",
    "        self.val = val\n",
    "        self.left = left\n",
    "        self.right = right\n",
    "\n",
    "\n",
    "def constructBinaryTree(s):\n",
    "    if not s:\n",
    "        return None\n",
    "    \n",
    "    index = s.find('(')\n",
    "    \n",
    "    if index == -1:\n",
    "\n",
    "        return TreeNode(int(s))\n",
    "    \n",
    "    root_val = int(s[:index])\n",
    "    \n",
    "    count = 0\n",
    "    for i in range(index, len(s)):\n",
    "        if s[i] == '(':\n",
    "            count += 1\n",
    "        elif s[i] == ')':\n",
    "            count -= 1\n",
    "        \n",
    "        if count == 0:\n",
    "\n",
    "            left_subtree = constructBinaryTree(s[index+1:i])\n",
    "            right_subtree = constructBinaryTree(s[i+2:len(s)-1])\n",
    "            \n",
    "            return TreeNode(root_val, left_subtree, right_subtree)\n",
    "\n",
    "s = \"4(2(3)(1))(6(5))\"\n",
    "root = constructBinaryTree(s)\n",
    "\n",
    "\n",
    "def flattenBinaryTree(root):\n",
    "    if not root:\n",
    "        return []\n",
    "    return [root.val] + flattenBinaryTree(root.left) + flattenBinaryTree(root.right)\n",
    "\n",
    "output = flattenBinaryTree(root)\n",
    "print(output)\n"
   ]
  },
  {
   "cell_type": "markdown",
   "id": "1124e5bc-0261-4e0d-81ec-3eebb018a4ab",
   "metadata": {},
   "source": [
    "#### Q.6."
   ]
  },
  {
   "cell_type": "code",
   "execution_count": 6,
   "id": "f85b9079-ab91-41c6-a66f-9743dd5ccd78",
   "metadata": {},
   "outputs": [
    {
     "name": "stdout",
     "output_type": "stream",
     "text": [
      "[0, 6]\n"
     ]
    }
   ],
   "source": [
    "def findAnagrams(s, p):\n",
    "    result = []\n",
    "    p_count = {}\n",
    "    window_count = {}\n",
    "\n",
    "    for char in p:\n",
    "        p_count[char] = p_count.get(char, 0) + 1\n",
    "\n",
    "    for i in range(len(s)):\n",
    "\n",
    "        window_count[s[i]] = window_count.get(s[i], 0) + 1\n",
    "\n",
    "        if i >= len(p):\n",
    "            if window_count[s[i - len(p)]] == 1:\n",
    "                del window_count[s[i - len(p)]]\n",
    "            else:\n",
    "                window_count[s[i - len(p)]] -= 1\n",
    "\n",
    "        if window_count == p_count:\n",
    "            result.append(i - len(p) + 1)\n",
    "\n",
    "    return result\n",
    "\n",
    "s = \"cbaebabacd\"\n",
    "p = \"abc\"\n",
    "print(findAnagrams(s, p))\n"
   ]
  },
  {
   "cell_type": "markdown",
   "id": "9b496923-5d6d-452f-9fe9-97cc00bb485f",
   "metadata": {},
   "source": [
    "#### Q.7."
   ]
  },
  {
   "cell_type": "code",
   "execution_count": 7,
   "id": "9efdbb9e-824a-43cb-b89a-0fa7d15d542f",
   "metadata": {},
   "outputs": [
    {
     "name": "stdout",
     "output_type": "stream",
     "text": [
      "aaabcbc\n"
     ]
    }
   ],
   "source": [
    "def decodeString(s):\n",
    "    stack = []\n",
    "    \n",
    "    for char in s:\n",
    "        if char == ']':\n",
    "            decoded_str = ''\n",
    "            \n",
    "            while stack[-1] != '[':\n",
    "                decoded_str = stack.pop() + decoded_str\n",
    "            \n",
    "            stack.pop()\n",
    "            \n",
    "            num = ''\n",
    "            while stack and stack[-1].isdigit():\n",
    "                num = stack.pop() + num\n",
    "            num = int(num)\n",
    "            \n",
    "            decoded_str = decoded_str * num\n",
    "            stack.append(decoded_str)\n",
    "        else:\n",
    "            stack.append(char)\n",
    "\n",
    "    return ''.join(stack)\n",
    "\n",
    "s = \"3[a]2[bc]\"\n",
    "print(decodeString(s))\n"
   ]
  },
  {
   "cell_type": "markdown",
   "id": "fc9c6720-04dd-46aa-af82-bd8f9c57b3ec",
   "metadata": {},
   "source": [
    "#### Q.8."
   ]
  },
  {
   "cell_type": "code",
   "execution_count": 8,
   "id": "4dadb974-3561-466c-a982-7b1def231781",
   "metadata": {},
   "outputs": [
    {
     "name": "stdout",
     "output_type": "stream",
     "text": [
      "True\n"
     ]
    }
   ],
   "source": [
    "def buddyStrings(s, goal):\n",
    "    if len(s) != len(goal):\n",
    "        return False\n",
    "    \n",
    "    diff_positions = []\n",
    "    diff_chars = []\n",
    "    \n",
    "    for i in range(len(s)):\n",
    "        if s[i] != goal[i]:\n",
    "            diff_positions.append(i)\n",
    "            diff_chars.append(goal[i])\n",
    "            \n",
    "        if len(diff_positions) > 2:\n",
    "            return False\n",
    "    \n",
    "    if len(diff_positions) < 2:\n",
    "        return False\n",
    "    \n",
    "    if len(diff_positions) == 2 and s[diff_positions[0]] == diff_chars[1] and s[diff_positions[1]] == diff_chars[0]:\n",
    "        return True\n",
    "    \n",
    "    return False\n",
    "s = \"ab\"\n",
    "goal = \"ba\"\n",
    "print(buddyStrings(s, goal))\n"
   ]
  },
  {
   "cell_type": "code",
   "execution_count": null,
   "id": "c7af67f1-8a82-4b7e-a319-5c42953fb095",
   "metadata": {},
   "outputs": [],
   "source": []
  }
 ],
 "metadata": {
  "kernelspec": {
   "display_name": "Python 3 (ipykernel)",
   "language": "python",
   "name": "python3"
  },
  "language_info": {
   "codemirror_mode": {
    "name": "ipython",
    "version": 3
   },
   "file_extension": ".py",
   "mimetype": "text/x-python",
   "name": "python",
   "nbconvert_exporter": "python",
   "pygments_lexer": "ipython3",
   "version": "3.10.6"
  }
 },
 "nbformat": 4,
 "nbformat_minor": 5
}
