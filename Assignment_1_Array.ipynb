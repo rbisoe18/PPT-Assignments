{
 "cells": [
  {
   "cell_type": "markdown",
   "id": "c82e890c-aee9-406e-b2ae-4f7dc8d51d3f",
   "metadata": {},
   "source": [
    "#### Q. 1."
   ]
  },
  {
   "cell_type": "code",
   "execution_count": 3,
   "id": "ba31c5e9-dee5-4fc6-8e1c-fabc391a8022",
   "metadata": {},
   "outputs": [
    {
     "name": "stdout",
     "output_type": "stream",
     "text": [
      "True\n"
     ]
    }
   ],
   "source": [
    "def find_pair(arr, x):\n",
    "    n = len(arr)\n",
    "\n",
    "    pivot = 0\n",
    "    for i in range(n - 1):\n",
    "        if arr[i] > arr[i + 1]:\n",
    "            pivot = i + 1\n",
    "            break\n",
    "    left = pivot\n",
    "    right = pivot - 1\n",
    "    while left != right:\n",
    "        if arr[left] + arr[right] == x:\n",
    "            return True\n",
    "            return (0,1)\n",
    "        elif arr[left] + arr[right] < x:\n",
    "            left = (left + 1) % n\n",
    "        else:\n",
    "            right = (right - 1 + n) % n\n",
    "    return False\n",
    " \n",
    "arr = [2,7,11,15]\n",
    "sum = 9\n",
    "print(find_pair(arr, sum))"
   ]
  },
  {
   "cell_type": "code",
   "execution_count": 30,
   "id": "449e5bc1-2984-4258-97db-9b93b2078d03",
   "metadata": {},
   "outputs": [
    {
     "name": "stdout",
     "output_type": "stream",
     "text": [
      "[0, 1]\n"
     ]
    }
   ],
   "source": [
    "def TwoSum(nums, target):\n",
    "    complement_map = {}\n",
    "\n",
    "    for i, num in enumerate(nums):\n",
    "        complement = target - num\n",
    "\n",
    "        if complement in complement_map:\n",
    "            return [complement_map[complement], i]\n",
    "\n",
    "        complement_map[num] = i\n",
    "    return []\n",
    "\n",
    "# Example\n",
    "nums = [2, 7, 11, 15]\n",
    "target = 9\n",
    "result = TwoSum(nums, target)\n",
    "print(result)  # Output: [0, 1]\n"
   ]
  },
  {
   "cell_type": "markdown",
   "id": "8e1bf8fa-be6b-46be-bbab-3ced8cab48bb",
   "metadata": {},
   "source": [
    "#### Q. 2."
   ]
  },
  {
   "cell_type": "code",
   "execution_count": 34,
   "id": "47ce4fbf-e84f-4998-8355-4274c7b2d9a9",
   "metadata": {},
   "outputs": [
    {
     "name": "stdout",
     "output_type": "stream",
     "text": [
      "2\n",
      "[2, 2, 2, 3]\n"
     ]
    }
   ],
   "source": [
    "def removeElement(nums, val):\n",
    "    i = 0\n",
    "    j = 0\n",
    "\n",
    "    while i < len(nums):\n",
    "        if nums[i] != val:\n",
    "            nums[j] = nums[i]\n",
    "            j += 1\n",
    "        i += 1\n",
    "\n",
    "    return j\n",
    "\n",
    "# Example\n",
    "nums = [3, 2, 2, 3]\n",
    "val = 3\n",
    "count = removeElement(nums, val)\n",
    "print(count)  # Output: 2\n",
    "print(nums)  # Output: [2, 2, *, *]\n"
   ]
  },
  {
   "cell_type": "markdown",
   "id": "6f0e6dc4-0e9f-4344-ad57-3618d0ea23cd",
   "metadata": {},
   "source": [
    "#### Q. 3."
   ]
  },
  {
   "cell_type": "code",
   "execution_count": 22,
   "id": "3dc68d3b-43ad-42de-af17-035d8a27ab2d",
   "metadata": {},
   "outputs": [
    {
     "name": "stdout",
     "output_type": "stream",
     "text": [
      "index is:2\n"
     ]
    }
   ],
   "source": [
    "def searchInsert(nums, target):\n",
    "    left = 0\n",
    "    right = len(nums) - 1\n",
    "\n",
    "    while left <= right:\n",
    "        mid = (left + right) // 2\n",
    "\n",
    "        if nums[mid] == target:\n",
    "            return mid\n",
    "        elif nums[mid] < target:\n",
    "            left = mid + 1\n",
    "        else:\n",
    "            right = mid - 1\n",
    "\n",
    "    return left\n",
    "\n",
    "# Example\n",
    "nums = [1, 3, 5, 6]\n",
    "target = 5\n",
    "index = searchInsert(nums, target)\n",
    "print(f\"index is:{index}\")  # Output: 2\n"
   ]
  },
  {
   "cell_type": "markdown",
   "id": "2fc9bde2-6c7e-48bb-917f-9ef0ab82a36a",
   "metadata": {},
   "source": [
    "#### Q.4"
   ]
  },
  {
   "cell_type": "code",
   "execution_count": 16,
   "id": "5e6a5228-d432-4fc6-b504-cf03a2b64dd5",
   "metadata": {},
   "outputs": [
    {
     "name": "stdout",
     "output_type": "stream",
     "text": [
      "[1, 2, 4]\n"
     ]
    }
   ],
   "source": [
    "def increment(digits):\n",
    "    n = len(digits)\n",
    "    i = n - 1\n",
    "    carry = 1\n",
    "\n",
    "    while i >= 0 and carry > 0:\n",
    "        digits[i] += carry\n",
    "        carry = digits[i] // 10\n",
    "        digits[i] %= 10\n",
    "        i -= 1\n",
    "\n",
    "    if carry > 0:\n",
    "        digits.insert(0, carry)\n",
    "\n",
    "    return digits\n",
    "\n",
    "digits = [1, 2, 3]\n",
    "result = increment(digits)\n",
    "print(result)"
   ]
  },
  {
   "cell_type": "markdown",
   "id": "43a68c9e-2809-4b1f-8b95-b3be18917150",
   "metadata": {},
   "source": [
    "#### Q. 5."
   ]
  },
  {
   "cell_type": "code",
   "execution_count": 18,
   "id": "f38b05ad-faf3-4cbe-a756-af88a56dfeb7",
   "metadata": {},
   "outputs": [
    {
     "name": "stdout",
     "output_type": "stream",
     "text": [
      "[1, 2, 2, 3, 5, 6]\n"
     ]
    }
   ],
   "source": [
    "def merge(nums1, m, nums2, n):\n",
    "    p1 = m - 1\n",
    "    p2 = n - 1\n",
    "    p = m + n - 1\n",
    "\n",
    "    while p1 >= 0 and p2 >= 0:\n",
    "        if nums1[p1] > nums2[p2]:\n",
    "            nums1[p] = nums1[p1]\n",
    "            p1 -= 1\n",
    "        else:\n",
    "            nums1[p] = nums2[p2]\n",
    "            p2 -= 1\n",
    "        p -= 1\n",
    "\n",
    "    nums1[:p2 + 1] = nums2[:p2 + 1]\n",
    "\n",
    "\n",
    "nums1 = [1, 2, 3, 0, 0, 0]\n",
    "m = 3\n",
    "nums2 = [2, 5, 6]\n",
    "n = 3\n",
    "\n",
    "merge(nums1, m, nums2, n)\n",
    "print(nums1)\n"
   ]
  },
  {
   "cell_type": "markdown",
   "id": "cc8f4c79-7f98-4d8a-9a68-3ff9f721e980",
   "metadata": {},
   "source": [
    "#### Q. 6."
   ]
  },
  {
   "cell_type": "code",
   "execution_count": 19,
   "id": "b33900cc-6759-4706-ba67-225e853d041f",
   "metadata": {},
   "outputs": [
    {
     "name": "stdout",
     "output_type": "stream",
     "text": [
      "True\n",
      "False\n",
      "True\n"
     ]
    }
   ],
   "source": [
    "def containsDuplicate(nums):\n",
    "    seen = set()\n",
    "\n",
    "    for num in nums:\n",
    "        if num in seen:\n",
    "            return True\n",
    "        seen.add(num)\n",
    "\n",
    "    return False\n",
    "\n",
    "nums1 = [1, 2, 3, 1]\n",
    "print(containsDuplicate(nums1))  # Output: True\n",
    "\n",
    "nums2 = [1, 2, 3, 4]\n",
    "print(containsDuplicate(nums2))  # Output: False\n",
    "\n",
    "nums3 = [1, 1, 1, 1]\n",
    "print(containsDuplicate(nums3))  # Output: True\n"
   ]
  },
  {
   "cell_type": "markdown",
   "id": "4b550fa1-585d-47cf-8351-078f9eebec69",
   "metadata": {},
   "source": [
    "#### Q. 7."
   ]
  },
  {
   "cell_type": "code",
   "execution_count": 20,
   "id": "45f0aefd-de32-4ca0-9aa2-6f4c1b0afb92",
   "metadata": {},
   "outputs": [
    {
     "name": "stdout",
     "output_type": "stream",
     "text": [
      "[12, 1, 3, 0, 0]\n"
     ]
    }
   ],
   "source": [
    "def move(nums):\n",
    "    p1 = 0\n",
    "    p2 = len(nums) - 1\n",
    "\n",
    "    while p1 < p2:\n",
    "        if nums[p1] == 0:\n",
    "            nums[p1], nums[p2] = nums[p2], nums[p1]\n",
    "            p2 -= 1\n",
    "        else:\n",
    "            p1 += 1\n",
    "\n",
    "    return nums\n",
    "\n",
    "nums = [0, 1, 0, 3, 12]\n",
    "result = move(nums)\n",
    "print(result)\n"
   ]
  },
  {
   "cell_type": "markdown",
   "id": "7e3a7580-87ad-46d0-be7a-5d7edef9fc48",
   "metadata": {},
   "source": [
    "#### Q. 8."
   ]
  },
  {
   "cell_type": "code",
   "execution_count": 22,
   "id": "c09fcc8b-6823-4b9e-9f58-bebcf4c35860",
   "metadata": {},
   "outputs": [
    {
     "name": "stdout",
     "output_type": "stream",
     "text": [
      "[2, 3]\n"
     ]
    }
   ],
   "source": [
    "def findErrorNum(nums):\n",
    "    seen = set()\n",
    "    duplicate = -1\n",
    "    n = len(nums)\n",
    "\n",
    "    for num in nums:\n",
    "        if num in seen:\n",
    "            duplicate = num\n",
    "        seen.add(num)\n",
    "\n",
    "    missing = n * (n + 1) // 2 - sum(nums) + duplicate\n",
    "\n",
    "    return [duplicate, missing]\n",
    "\n",
    "nums = [1, 2, 2, 4]\n",
    "result = findErrorNum(nums)\n",
    "print(result)\n"
   ]
  },
  {
   "cell_type": "code",
   "execution_count": null,
   "id": "157ff740-b3af-4870-821b-0167137d3aa7",
   "metadata": {},
   "outputs": [],
   "source": []
  }
 ],
 "metadata": {
  "kernelspec": {
   "display_name": "Python 3 (ipykernel)",
   "language": "python",
   "name": "python3"
  },
  "language_info": {
   "codemirror_mode": {
    "name": "ipython",
    "version": 3
   },
   "file_extension": ".py",
   "mimetype": "text/x-python",
   "name": "python",
   "nbconvert_exporter": "python",
   "pygments_lexer": "ipython3",
   "version": "3.10.6"
  }
 },
 "nbformat": 4,
 "nbformat_minor": 5
}
