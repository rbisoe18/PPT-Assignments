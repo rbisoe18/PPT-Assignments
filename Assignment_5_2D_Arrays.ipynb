{
 "cells": [
  {
   "cell_type": "markdown",
   "id": "5c9e6bd8-d7a8-4046-8e11-4a8e4b59ab63",
   "metadata": {},
   "source": [
    "#### Q.1."
   ]
  },
  {
   "cell_type": "code",
   "execution_count": 5,
   "id": "c6fc16f6-041e-4b06-8545-7db087c7e462",
   "metadata": {},
   "outputs": [
    {
     "name": "stdout",
     "output_type": "stream",
     "text": [
      "[[1, 2], [3, 4]]\n"
     ]
    }
   ],
   "source": [
    "def construct2DArray(original, m, n):\n",
    "    if len(original) != m * n:\n",
    "        return []\n",
    "\n",
    "    result = []\n",
    "    idx = 0\n",
    "\n",
    "    for i in range(m):\n",
    "        row = []\n",
    "        for j in range(n):\n",
    "            row.append(original[idx])\n",
    "            idx += 1\n",
    "        result.append(row)\n",
    "\n",
    "    return result\n",
    "\n",
    "# Test case\n",
    "original = [1, 2, 3, 4]\n",
    "m = 2\n",
    "n = 2\n",
    "result = construct2DArray(original, m, n)\n",
    "print(result)\n"
   ]
  },
  {
   "cell_type": "markdown",
   "id": "90329aae-56d4-4c45-84dd-9567432aaeb4",
   "metadata": {},
   "source": [
    "#### Q.2."
   ]
  },
  {
   "cell_type": "code",
   "execution_count": 6,
   "id": "4b67e546-adcb-4c57-95e9-932750887ee7",
   "metadata": {},
   "outputs": [
    {
     "name": "stdout",
     "output_type": "stream",
     "text": [
      "2\n"
     ]
    }
   ],
   "source": [
    "def arrangeCoins(n):\n",
    "    i = 1\n",
    "    while (i * (i + 1)) // 2 <= n:\n",
    "        i += 1\n",
    "    return i - 1\n",
    "\n",
    "n = 5\n",
    "result = arrangeCoins(n)\n",
    "print(result)"
   ]
  },
  {
   "cell_type": "markdown",
   "id": "f39dee69-7053-4658-bcad-0b9dea7ef6ce",
   "metadata": {},
   "source": [
    "#### Q.3."
   ]
  },
  {
   "cell_type": "code",
   "execution_count": 7,
   "id": "8665b6ab-80b3-4b3f-ae4c-53c186d6599a",
   "metadata": {},
   "outputs": [
    {
     "data": {
      "text/plain": [
       "[0, 1, 9, 16, 100]"
      ]
     },
     "execution_count": 7,
     "metadata": {},
     "output_type": "execute_result"
    }
   ],
   "source": [
    "def sqr(arr):\n",
    "    arr.sort()\n",
    "    new = []\n",
    "    for num in arr:\n",
    "        new.append(num**2)\n",
    "    return sorted(new)\n",
    "\n",
    "arr = [-4,-1,0,3,10]\n",
    "sqr(arr)"
   ]
  },
  {
   "cell_type": "markdown",
   "id": "98e61641-cdb0-4649-b2fd-05cddea30637",
   "metadata": {},
   "source": [
    "#### Q.4."
   ]
  },
  {
   "cell_type": "code",
   "execution_count": 8,
   "id": "74cae7c2-f8d7-4dd8-b225-a272341d40a2",
   "metadata": {},
   "outputs": [
    {
     "name": "stdout",
     "output_type": "stream",
     "text": [
      "[[1, 3], [4, 6]]\n"
     ]
    }
   ],
   "source": [
    "def findDisjointArrays(nums1, nums2):\n",
    "    set1 = set(nums1)\n",
    "    set2 = set(nums2)\n",
    "    \n",
    "    answer = []\n",
    "    answer.append([nums1[i] for i in range(len(nums1)) if nums1[i] not in set2])  # Distinct integers in nums1 but not in nums2\n",
    "    answer.append([nums2[i] for i in range(len(nums2)) if nums2[i] not in set1])  # Distinct integers in nums2 but not in nums1\n",
    "    \n",
    "    return answer\n",
    "\n",
    "nums1 = [1, 2, 3]\n",
    "nums2 = [2, 4, 6]\n",
    "result = findDisjointArrays(nums1, nums2)\n",
    "print(result)"
   ]
  },
  {
   "cell_type": "markdown",
   "id": "78d98558-7970-49fe-9a9a-19b2f0d3ab40",
   "metadata": {},
   "source": [
    "#### Q.5."
   ]
  },
  {
   "cell_type": "code",
   "execution_count": 15,
   "id": "96f329bd-f1ec-4355-a9b2-7ea6f51c9260",
   "metadata": {},
   "outputs": [
    {
     "data": {
      "text/plain": [
       "2"
      ]
     },
     "execution_count": 15,
     "metadata": {},
     "output_type": "execute_result"
    }
   ],
   "source": [
    "def distance(arr1,arr2,d):\n",
    "    count = 0\n",
    "    for num1 in arr1:\n",
    "        for num2 in arr2:\n",
    "            if abs(num1 - num2) > d:\n",
    "                break\n",
    "            else:\n",
    "                count += 1\n",
    "    return count\n",
    "\n",
    "arr1 = [4,5,8]\n",
    "arr2 = [10,9,1,8]\n",
    "d = 2\n",
    "distance(arr1,arr2,d)"
   ]
  },
  {
   "cell_type": "markdown",
   "id": "3de2fc74-1d19-4b52-a343-ff187a661f97",
   "metadata": {},
   "source": [
    "#### Q.6."
   ]
  },
  {
   "cell_type": "code",
   "execution_count": 11,
   "id": "0c27ccc1-4106-450c-805a-a622da6de0ef",
   "metadata": {},
   "outputs": [
    {
     "name": "stdout",
     "output_type": "stream",
     "text": [
      "[2, 3]\n"
     ]
    }
   ],
   "source": [
    "def findDuplicates(nums):\n",
    "    result = []\n",
    "    for num in nums:\n",
    "        index = abs(num) - 1\n",
    "        if nums[index] < 0:\n",
    "            result.append(abs(num))\n",
    "        else:\n",
    "            nums[index] = -nums[index]\n",
    "    return result\n",
    "\n",
    "nums = [4, 3, 2, 7, 8, 2, 3, 1]\n",
    "result = findDuplicates(nums)\n",
    "print(result)\n"
   ]
  },
  {
   "cell_type": "markdown",
   "id": "6b309517-14e9-4240-9cf5-22fa055ee923",
   "metadata": {},
   "source": [
    "#### Q.7."
   ]
  },
  {
   "cell_type": "code",
   "execution_count": 12,
   "id": "e08e4d00-8539-4601-9fac-d7e4dab18806",
   "metadata": {},
   "outputs": [
    {
     "name": "stdout",
     "output_type": "stream",
     "text": [
      "1\n"
     ]
    }
   ],
   "source": [
    "def findMin(nums):\n",
    "    left = 0\n",
    "    right = len(nums) - 1\n",
    "\n",
    "    while left < right:\n",
    "        mid = (left + right) // 2\n",
    "        if nums[mid] > nums[right]:\n",
    "            left = mid + 1\n",
    "        else:\n",
    "            right = mid\n",
    "\n",
    "    return nums[left]\n",
    "\n",
    "nums = [3, 4, 5, 1, 2]\n",
    "result = findMin(nums)\n",
    "print(result)\n"
   ]
  },
  {
   "cell_type": "markdown",
   "id": "3dbc6693-aa03-420e-8486-cd534d102327",
   "metadata": {},
   "source": [
    "#### Q.8."
   ]
  },
  {
   "cell_type": "code",
   "execution_count": 13,
   "id": "71cc860c-b2ef-4581-a438-6483b59e93bf",
   "metadata": {},
   "outputs": [
    {
     "name": "stdout",
     "output_type": "stream",
     "text": [
      "[1, 3, 4]\n"
     ]
    }
   ],
   "source": [
    "def findOriginalArray(changed):\n",
    "    if len(changed) % 2 != 0:\n",
    "        return []\n",
    "    \n",
    "    original_set = set()\n",
    "    result = []\n",
    "    \n",
    "    for num in changed:\n",
    "        if num % 2 == 0 and num // 2 in original_set:\n",
    "            original_set.remove(num // 2)\n",
    "            result.append(num // 2)\n",
    "        elif num not in original_set:\n",
    "            original_set.add(num)\n",
    "    \n",
    "    if len(original_set) > 0:\n",
    "        return []\n",
    "    \n",
    "    return result\n",
    "\n",
    "changed = [1, 3, 4, 2, 6, 8]\n",
    "result = findOriginalArray(changed)\n",
    "print(result)\n"
   ]
  },
  {
   "cell_type": "code",
   "execution_count": null,
   "id": "0647d08c-63ec-4909-b97d-1936d4c1df7e",
   "metadata": {},
   "outputs": [],
   "source": []
  }
 ],
 "metadata": {
  "kernelspec": {
   "display_name": "Python 3 (ipykernel)",
   "language": "python",
   "name": "python3"
  },
  "language_info": {
   "codemirror_mode": {
    "name": "ipython",
    "version": 3
   },
   "file_extension": ".py",
   "mimetype": "text/x-python",
   "name": "python",
   "nbconvert_exporter": "python",
   "pygments_lexer": "ipython3",
   "version": "3.10.6"
  }
 },
 "nbformat": 4,
 "nbformat_minor": 5
}
