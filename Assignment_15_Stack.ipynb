{
 "cells": [
  {
   "cell_type": "markdown",
   "id": "e698741d-88bd-4123-8614-ef4cd3095d54",
   "metadata": {},
   "source": [
    "#### Q.1"
   ]
  },
  {
   "cell_type": "code",
   "execution_count": 28,
   "id": "d74e64d1-19e3-4063-92e3-2fbae3b8246e",
   "metadata": {},
   "outputs": [
    {
     "name": "stdout",
     "output_type": "stream",
     "text": [
      "[3, 4, 4, -1]\n",
      "----------------\n",
      "[8, -1, 1, 3, -1]\n"
     ]
    }
   ],
   "source": [
    "def findNextGreaterElement(arr):\n",
    "    stack = []\n",
    "    result = [-1] * len(arr)\n",
    "\n",
    "    for i in range(len(arr)):\n",
    "        while stack and arr[i] > arr[stack[-1]]:\n",
    "            index = stack.pop()\n",
    "            result[index] = arr[i]\n",
    "        stack.append(i)\n",
    "\n",
    "    return result\n",
    "print(findNextGreaterElement([1, 3, 2, 4]))\n",
    "print(\"----------------\")\n",
    "print(findNextGreaterElement([6, 8, 0, 1, 3]))\n"
   ]
  },
  {
   "cell_type": "markdown",
   "id": "750e3b1d-1a1f-4dfa-86cf-79f36598fe18",
   "metadata": {},
   "source": [
    "#### Q.2"
   ]
  },
  {
   "cell_type": "code",
   "execution_count": 35,
   "id": "a6540c5c-4fe6-497b-922f-c6ce90394984",
   "metadata": {},
   "outputs": [
    {
     "name": "stdout",
     "output_type": "stream",
     "text": [
      "[-1, 1, 1]\n",
      "----------------\n",
      "[-1, 1, -1, 0, 3, 4]\n"
     ]
    }
   ],
   "source": [
    "def findNearestSmallerElement(arr):\n",
    "    stack = []\n",
    "    result = [-1] * len(arr)\n",
    "\n",
    "    for i in range(len(arr)):\n",
    "        while stack and arr[i] <= arr[stack[-1]]:\n",
    "            stack.pop()\n",
    "\n",
    "        if stack:\n",
    "            result[i] = arr[stack[-1]]\n",
    "\n",
    "        stack.append(i)\n",
    "\n",
    "    return result\n",
    "\n",
    "print(findNearestSmallerElement([1, 6, 2]))\n",
    "print(\"----------------\")\n",
    "print(findNearestSmallerElement([1, 5, 0, 3, 4, 5]))\n"
   ]
  },
  {
   "cell_type": "markdown",
   "id": "3f45c96c-73db-4696-9fb5-6b567d0b187b",
   "metadata": {},
   "source": [
    "#### Q.3"
   ]
  },
  {
   "cell_type": "code",
   "execution_count": 38,
   "id": "dd26857f-c9ec-4a5d-96d0-b2a39bac22f7",
   "metadata": {},
   "outputs": [
    {
     "name": "stdout",
     "output_type": "stream",
     "text": [
      "3\n",
      "---\n",
      "4\n"
     ]
    }
   ],
   "source": [
    "from queue import Queue\n",
    "\n",
    "class Stack:\n",
    "    def __init__(self):\n",
    "        self.q1 = Queue()\n",
    "        self.q2 = Queue()\n",
    "\n",
    "    def push(self, value):\n",
    "        if self.q1.empty():\n",
    "            self.q1.put(value)\n",
    "        else:\n",
    "            while not self.q1.empty():\n",
    "                self.q2.put(self.q1.get())\n",
    "\n",
    "            self.q1.put(value)\n",
    "            \n",
    "            while not self.q2.empty():\n",
    "                self.q1.put(self.q2.get())\n",
    "\n",
    "    def pop(self):\n",
    "        if self.q1.empty():\n",
    "            return -1\n",
    "\n",
    "        return self.q1.get()\n",
    "\n",
    "# Example\n",
    "stack = Stack()\n",
    "stack.push(2)\n",
    "stack.push(3)\n",
    "print(stack.pop())\n",
    "print(\"---\")\n",
    "stack.push(4)\n",
    "print(stack.pop())\n"
   ]
  },
  {
   "cell_type": "markdown",
   "id": "56cf6b1f-7e74-483c-bd67-003e7fb7531e",
   "metadata": {},
   "source": [
    "#### Q.4"
   ]
  },
  {
   "cell_type": "code",
   "execution_count": 40,
   "id": "1297b40b-d730-427d-bbc5-a535ad91f69a",
   "metadata": {},
   "outputs": [
    {
     "name": "stdout",
     "output_type": "stream",
     "text": [
      "Original stack: [3, 2, 1, 7, 6]\n",
      "Reversed stack: [6, 7, 1, 2, 3]\n",
      "-----------------------------------\n",
      "Original stack: [4, 3, 9, 6]\n",
      "Reversed stack: [6, 9, 3, 4]\n"
     ]
    }
   ],
   "source": [
    "class Stack:\n",
    "    def __init__(self):\n",
    "        self.items = []\n",
    "\n",
    "    def push(self, item):\n",
    "        self.items.append(item)\n",
    "\n",
    "    def pop(self):\n",
    "        if not self.is_empty():\n",
    "            return self.items.pop()\n",
    "\n",
    "    def is_empty(self):\n",
    "        return len(self.items) == 0\n",
    "\n",
    "    def reverse(self):\n",
    "        if not self.is_empty():\n",
    "            top = self.pop()\n",
    "\n",
    "            self.reverse()\n",
    "\n",
    "            self.insert_at_bottom(top)\n",
    "\n",
    "    def insert_at_bottom(self, item):\n",
    "        if self.is_empty():\n",
    "            self.push(item)\n",
    "        else:\n",
    "            top = self.pop()\n",
    "            self.insert_at_bottom(item)\n",
    "            self.push(top)\n",
    "\n",
    "# Example 1\n",
    "stack1 = Stack()\n",
    "stack1.push(3)\n",
    "stack1.push(2)\n",
    "stack1.push(1)\n",
    "stack1.push(7)\n",
    "stack1.push(6)\n",
    "\n",
    "print(\"Original stack:\", stack1.items)\n",
    "stack1.reverse()\n",
    "print(\"Reversed stack:\", stack1.items)\n",
    "print(\"-----------------------------------\")\n",
    "\n",
    "# Example 2\n",
    "stack2 = Stack()\n",
    "stack2.push(4)\n",
    "stack2.push(3)\n",
    "stack2.push(9)\n",
    "stack2.push(6)\n",
    "\n",
    "\n",
    "print(\"Original stack:\", stack2.items)\n",
    "stack2.reverse()\n",
    "print(\"Reversed stack:\", stack2.items)"
   ]
  },
  {
   "cell_type": "markdown",
   "id": "1141ce7a-fe6c-4be3-b735-63376d22a53a",
   "metadata": {},
   "source": [
    "#### Q.5"
   ]
  },
  {
   "cell_type": "code",
   "execution_count": 44,
   "id": "9aa14eae-bdab-40e5-9d72-2989e43e5f8e",
   "metadata": {},
   "outputs": [
    {
     "name": "stdout",
     "output_type": "stream",
     "text": [
      "Reversed string: skeeGrofskeeG\n"
     ]
    }
   ],
   "source": [
    "class Stack:\n",
    "    def __init__(self):\n",
    "        self.items = []\n",
    "\n",
    "    def push(self, item):\n",
    "        self.items.append(item)\n",
    "\n",
    "    def pop(self):\n",
    "        if not self.is_empty():\n",
    "            return self.items.pop()\n",
    "\n",
    "    def is_empty(self):\n",
    "        return len(self.items) == 0\n",
    "\n",
    "def reverse_string(input_string):\n",
    "    stack = Stack()\n",
    "    for char in input_string:\n",
    "        stack.push(char)\n",
    "\n",
    "    reversed_string = \"\"\n",
    "    \n",
    "    while not stack.is_empty():\n",
    "        reversed_string += stack.pop()\n",
    "\n",
    "    return reversed_string\n",
    "\n",
    "# Example\n",
    "input_string = \"GeeksforGeeks\"\n",
    "reversed_string = reverse_string(input_string)\n",
    "print(\"Reversed string:\", reversed_string)\n"
   ]
  },
  {
   "cell_type": "markdown",
   "id": "3ae051bc-e52b-4c93-8ff3-3dfa6484e1d9",
   "metadata": {},
   "source": [
    "#### Q.6"
   ]
  },
  {
   "cell_type": "code",
   "execution_count": 42,
   "id": "56280376-11ce-4e3c-9b4e-94177600914a",
   "metadata": {},
   "outputs": [
    {
     "name": "stdout",
     "output_type": "stream",
     "text": [
      "-4\n",
      "--\n",
      "-3\n"
     ]
    }
   ],
   "source": [
    "class Stack:\n",
    "    def __init__(self):\n",
    "        self.items = []\n",
    "\n",
    "    def push(self, item):\n",
    "        self.items.append(item)\n",
    "\n",
    "    def pop(self):\n",
    "        if not self.is_empty():\n",
    "            return self.items.pop()\n",
    "\n",
    "    def is_empty(self):\n",
    "        return len(self.items) == 0\n",
    "\n",
    "def evaluate_postfix(expression):\n",
    "    stack = Stack()\n",
    "\n",
    "    for char in expression:\n",
    "        if char.isdigit():\n",
    "            stack.push(int(char))\n",
    "        else:\n",
    "            operand2 = stack.pop()\n",
    "            operand1 = stack.pop()\n",
    "\n",
    "            if char == '+':\n",
    "                result = operand1 + operand2\n",
    "            elif char == '-':\n",
    "                result = operand1 - operand2\n",
    "            elif char == '*':\n",
    "                result = operand1 * operand2\n",
    "            elif char == '/':\n",
    "                result = operand1 / operand2\n",
    "\n",
    "            stack.push(result)\n",
    "\n",
    "    return stack.pop()\n",
    "\n",
    "# Example \n",
    "print(evaluate_postfix(\"231*+9-\"))\n",
    "print(\"--\")\n",
    "print(evaluate_postfix(\"123+*8-\"))"
   ]
  },
  {
   "cell_type": "markdown",
   "id": "b1ff834e-6266-4fa1-9dba-35d01f61c0f4",
   "metadata": {},
   "source": [
    "#### Q.7"
   ]
  },
  {
   "cell_type": "code",
   "execution_count": 45,
   "id": "da27a9a8-5ea7-4610-baf5-c4bea9ff3623",
   "metadata": {},
   "outputs": [
    {
     "name": "stdout",
     "output_type": "stream",
     "text": [
      "-3\n",
      "--\n",
      "0\n",
      "--\n",
      "-2\n"
     ]
    }
   ],
   "source": [
    "class MinStack:\n",
    "    def __init__(self):\n",
    "        self.stack = []\n",
    "        self.min_stack = []\n",
    "\n",
    "    def push(self, val):\n",
    "        self.stack.append(val)\n",
    "        # Update the minimum stack\n",
    "        if not self.min_stack or val <= self.min_stack[-1]:\n",
    "            self.min_stack.append(val)\n",
    "\n",
    "    def pop(self):\n",
    "        if self.stack:\n",
    "            if self.stack[-1] == self.min_stack[-1]:\n",
    "                self.min_stack.pop()\n",
    "            self.stack.pop()\n",
    "\n",
    "    def top(self):\n",
    "        if self.stack:\n",
    "            return self.stack[-1]\n",
    "\n",
    "    def getMin(self):\n",
    "        if self.min_stack:\n",
    "            return self.min_stack[-1]\n",
    "\n",
    "# Example usage\n",
    "min_stack = MinStack()\n",
    "min_stack.push(-2)\n",
    "min_stack.push(0)\n",
    "min_stack.push(-3)\n",
    "print(min_stack.getMin())\n",
    "print(\"--\")\n",
    "min_stack.pop()\n",
    "print(min_stack.top())\n",
    "print(\"--\")\n",
    "print(min_stack.getMin())\n"
   ]
  },
  {
   "cell_type": "markdown",
   "id": "e51d550c-8795-4aa6-bbeb-668f16a56dbb",
   "metadata": {},
   "source": [
    "#### Q.8"
   ]
  },
  {
   "cell_type": "code",
   "execution_count": 47,
   "id": "208ba582-0913-47a8-a13b-5f9eab2a606e",
   "metadata": {},
   "outputs": [
    {
     "name": "stdout",
     "output_type": "stream",
     "text": [
      "6\n",
      "--\n",
      "9\n"
     ]
    }
   ],
   "source": [
    "def trap_water(height):\n",
    "    if len(height) < 3:\n",
    "        return 0\n",
    "\n",
    "    left = 0\n",
    "    right = len(height) - 1\n",
    "    left_max = right_max = water = 0\n",
    "\n",
    "    while left < right:\n",
    "        if height[left] < height[right]:\n",
    "            if height[left] >= left_max:\n",
    "                left_max = height[left]\n",
    "            else:\n",
    "                water += left_max - height[left]\n",
    "            left += 1\n",
    "        else:\n",
    "            if height[right] >= right_max:\n",
    "                right_max = height[right]\n",
    "            else:\n",
    "                water += right_max - height[right]\n",
    "            right -= 1\n",
    "\n",
    "    return water\n",
    "\n",
    "# Example\n",
    "print(trap_water([0, 1, 0, 2, 1, 0, 1, 3, 2, 1, 2, 1]))\n",
    "print(\"--\")\n",
    "print(trap_water([4, 2, 0, 3, 2, 5]))\n"
   ]
  },
  {
   "cell_type": "code",
   "execution_count": null,
   "id": "6544db40-1a4d-4ac3-b31f-72ec8ad49745",
   "metadata": {},
   "outputs": [],
   "source": []
  }
 ],
 "metadata": {
  "kernelspec": {
   "display_name": "Python 3 (ipykernel)",
   "language": "python",
   "name": "python3"
  },
  "language_info": {
   "codemirror_mode": {
    "name": "ipython",
    "version": 3
   },
   "file_extension": ".py",
   "mimetype": "text/x-python",
   "name": "python",
   "nbconvert_exporter": "python",
   "pygments_lexer": "ipython3",
   "version": "3.10.6"
  }
 },
 "nbformat": 4,
 "nbformat_minor": 5
}
