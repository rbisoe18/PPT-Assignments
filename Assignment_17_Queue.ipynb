{
 "cells": [
  {
   "cell_type": "markdown",
   "id": "f6cf0517-933b-48da-9aa6-9ef8a5e5f3c3",
   "metadata": {},
   "source": [
    "#### Q.1"
   ]
  },
  {
   "cell_type": "code",
   "execution_count": 7,
   "id": "3aaf3513-6fe7-4c8e-9339-70d895450c8f",
   "metadata": {},
   "outputs": [
    {
     "name": "stdout",
     "output_type": "stream",
     "text": [
      "0\n",
      "---\n",
      "2\n",
      "---\n",
      "-1\n"
     ]
    }
   ],
   "source": [
    "from collections import deque\n",
    "\n",
    "def find_first_non_repeating_character(s):\n",
    "    char_count = {}\n",
    "    queue = deque()\n",
    "\n",
    "    for i, char in enumerate(s):\n",
    "        char_count[char] = char_count.get(char, 0) + 1\n",
    "\n",
    "        if char_count[char] == 1:\n",
    "            queue.append((char, i))\n",
    "        elif char_count[char] > 1 and queue and queue[0][0] == char:\n",
    "            queue.popleft()\n",
    "\n",
    "    if not queue:\n",
    "        return -1\n",
    "\n",
    "    return queue[0][1]\n",
    "\n",
    "print(firstUniqChar(\"leetcode\"))\n",
    "print(\"---\")\n",
    "print(firstUniqChar(\"loveleetcode\"))\n",
    "print(\"---\")\n",
    "print(firstUniqChar(\"aabb\"))\n"
   ]
  },
  {
   "cell_type": "markdown",
   "id": "01f4c8c8-8223-4ce9-94a1-69d11a92a97f",
   "metadata": {},
   "source": [
    "#### Q.2"
   ]
  },
  {
   "cell_type": "code",
   "execution_count": 9,
   "id": "479ae3f3-474b-4e85-a8e8-c8a91b2e6375",
   "metadata": {},
   "outputs": [
    {
     "name": "stdout",
     "output_type": "stream",
     "text": [
      "3\n",
      "---\n",
      "7\n",
      "---\n",
      "-2\n"
     ]
    }
   ],
   "source": [
    "def max_subarray_sum(nums):\n",
    "    def kadane_linear(arr):\n",
    "        max_sum = float('-inf')\n",
    "        current_sum = 0\n",
    "\n",
    "        for num in arr:\n",
    "            current_sum = max(current_sum + num, num)\n",
    "            max_sum = max(max_sum, current_sum)\n",
    "\n",
    "        return max_sum\n",
    "\n",
    "    def max_subarray_sum_circular(arr):\n",
    "        max_linear = kadane_linear(arr)\n",
    "        min_linear = kadane_linear([-num for num in arr])\n",
    "        total_sum = sum(arr)\n",
    "\n",
    "        max_circular = total_sum - min_linear\n",
    "\n",
    "        if max_circular == 0:\n",
    "            return max_linear\n",
    "\n",
    "        return max(max_linear, max_circular)\n",
    "\n",
    "    return max_subarray_sum_circular(nums)\n",
    "\n",
    "# examples\n",
    "print(max_subarray_sum([1, -2, 3, -2]))\n",
    "print(\"---\")\n",
    "print(max_subarray_sum([5, -3, 5]))\n",
    "print(\"---\")\n",
    "print(max_subarray_sum([-3, -2, -3]))\n"
   ]
  },
  {
   "cell_type": "markdown",
   "id": "06d42ba4-cbdb-4e91-9763-89241c76dec2",
   "metadata": {},
   "source": [
    "#### Q.3"
   ]
  },
  {
   "cell_type": "code",
   "execution_count": 10,
   "id": "a0567731-f57a-4169-b593-43a6f11caa28",
   "metadata": {},
   "outputs": [
    {
     "name": "stdout",
     "output_type": "stream",
     "text": [
      "3\n",
      "---\n",
      "10\n"
     ]
    }
   ],
   "source": [
    "def count_students_unable_to_eat(students, sandwiches):\n",
    "    count = 0\n",
    "    n = len(students)\n",
    "\n",
    "    while students and n > 0:\n",
    "        changed = False\n",
    "        for i in range(n):\n",
    "            if students[i] == sandwiches[0]:\n",
    "                sandwiches.pop(0)\n",
    "                students.pop(i)\n",
    "                changed = True\n",
    "                n -= 1\n",
    "                break\n",
    "            else:\n",
    "                students.append(students[i])\n",
    "\n",
    "        if not changed:\n",
    "            break\n",
    "\n",
    "    return len(students)\n",
    "\n",
    "\n",
    "# examples\n",
    "print(count_students_unable_to_eat([1, 1, 0, 0], [0, 1, 0, 1]))\n",
    "print(\"---\")\n",
    "print(count_students_unable_to_eat([1, 1, 1, 0, 0, 1], [1, 0, 0, 0, 1, 1]))\n"
   ]
  },
  {
   "cell_type": "markdown",
   "id": "ec955858-71fc-498a-aeed-6aa5f4a26ed0",
   "metadata": {},
   "source": [
    "#### Q.4"
   ]
  },
  {
   "cell_type": "code",
   "execution_count": 12,
   "id": "4d357484-fcd8-4356-8079-9b486139dda8",
   "metadata": {},
   "outputs": [
    {
     "name": "stdout",
     "output_type": "stream",
     "text": [
      "1\n",
      "---\n",
      "2\n",
      "---\n",
      "3\n",
      "---\n",
      "3\n"
     ]
    }
   ],
   "source": [
    "from collections import deque\n",
    "\n",
    "class RecentCounter:\n",
    "    def __init__(self):\n",
    "        self.requests = deque()\n",
    "\n",
    "    def ping(self, t: int) -> int:\n",
    "        self.requests.append(t)\n",
    "        while self.requests and self.requests[0] < t - 3000:\n",
    "            self.requests.popleft()\n",
    "        return len(self.requests)\n",
    "\n",
    "\n",
    "# example\n",
    "recentCounter = RecentCounter()\n",
    "print(recentCounter.ping(1))\n",
    "print(\"---\")\n",
    "print(recentCounter.ping(100))\n",
    "print(\"---\")\n",
    "print(recentCounter.ping(3001))\n",
    "print(\"---\")\n",
    "print(recentCounter.ping(3002))\n"
   ]
  },
  {
   "cell_type": "markdown",
   "id": "3bddc51d-2632-4dab-8f7d-d68b222bd8d7",
   "metadata": {},
   "source": [
    "#### Q.5"
   ]
  },
  {
   "cell_type": "code",
   "execution_count": 14,
   "id": "9a6ddc2c-1bb9-47b2-931a-b41370d6a341",
   "metadata": {},
   "outputs": [
    {
     "name": "stdout",
     "output_type": "stream",
     "text": [
      "3\n",
      "---\n",
      "1\n"
     ]
    }
   ],
   "source": [
    "def find_winner(n: int, k: int) -> int:\n",
    "    friends = list(range(1, n + 1))\n",
    "    current = 0\n",
    "\n",
    "    while len(friends) > 1:\n",
    "        current = (current + k - 1) % len(friends)\n",
    "        friends.pop(current)\n",
    "\n",
    "    return friends[0]\n",
    "\n",
    "\n",
    "# examples\n",
    "print(find_winner(5, 2))\n",
    "print(\"---\")\n",
    "print(find_winner(6, 5))\n"
   ]
  },
  {
   "cell_type": "markdown",
   "id": "af5e13fe-5a67-4cdd-9007-8a36be55f1a1",
   "metadata": {},
   "source": [
    "#### Q.6"
   ]
  },
  {
   "cell_type": "code",
   "execution_count": 17,
   "id": "7a50f2d2-014a-4f42-a83f-59effa1ee895",
   "metadata": {},
   "outputs": [
    {
     "name": "stdout",
     "output_type": "stream",
     "text": [
      "[2, 13, 3, 11, 5, 17, 7]\n",
      "---\n",
      "[1, 1000]\n"
     ]
    }
   ],
   "source": [
    "from collections import deque\n",
    "\n",
    "def deckRevealedIncreasing(deck):\n",
    "    deck.sort()\n",
    "    result = deque()\n",
    "\n",
    "    for card in reversed(deck):\n",
    "        if result:\n",
    "            result.appendleft(result.pop())\n",
    "        result.appendleft(card)\n",
    "\n",
    "    return list(result)\n",
    "\n",
    "\n",
    "# examples\n",
    "print(deckRevealedIncreasing([17, 13, 11, 2, 3, 5, 7]))\n",
    "print(\"---\")\n",
    "print(deckRevealedIncreasing([1, 1000]))\n"
   ]
  },
  {
   "cell_type": "markdown",
   "id": "3232a461-8cde-4b34-a708-f35526a4c821",
   "metadata": {},
   "source": [
    "#### Q.7"
   ]
  },
  {
   "cell_type": "code",
   "execution_count": 22,
   "id": "d385d70d-eb7a-4a95-8c0e-b00052eb41c7",
   "metadata": {},
   "outputs": [
    {
     "name": "stdout",
     "output_type": "stream",
     "text": [
      "1\n",
      "---\n",
      "3\n",
      "---\n",
      "4\n",
      "---\n",
      "2\n",
      "---\n",
      "-1\n"
     ]
    }
   ],
   "source": [
    "from collections import deque\n",
    "\n",
    "class FrontMiddleBackQueue:\n",
    "    def __init__(self):\n",
    "        self.front = deque()\n",
    "        self.back = deque()\n",
    "\n",
    "    def pushFront(self, val: int) -> None:\n",
    "        self.front.appendleft(val)\n",
    "        self.balance()\n",
    "\n",
    "    def pushMiddle(self, val: int) -> None:\n",
    "        if len(self.front) > len(self.back):\n",
    "            self.back.appendleft(self.front.pop())\n",
    "        self.front.append(val)\n",
    "\n",
    "    def pushBack(self, val: int) -> None:\n",
    "        self.back.append(val)\n",
    "        self.balance()\n",
    "\n",
    "    def popFront(self) -> int:\n",
    "        if self.front:\n",
    "            return self.front.popleft()\n",
    "        elif self.back:\n",
    "            return self.back.popleft()\n",
    "        else:\n",
    "            return -1\n",
    "\n",
    "    def popMiddle(self) -> int:\n",
    "        if len(self.front) == len(self.back):\n",
    "            return self.front.pop()\n",
    "        else:\n",
    "            return self.back.popleft()\n",
    "\n",
    "    def popBack(self) -> int:\n",
    "        if self.back:\n",
    "            return self.back.pop()\n",
    "        elif self.front:\n",
    "            return self.front.pop()\n",
    "        else:\n",
    "            return -1\n",
    "\n",
    "    def balance(self) -> None:\n",
    "        if len(self.front) > len(self.back) + 1:\n",
    "            self.back.appendleft(self.front.pop())\n",
    "        elif len(self.back) > len(self.front):\n",
    "            self.front.append(self.back.popleft())\n",
    "\n",
    "q = FrontMiddleBackQueue()\n",
    "q.pushFront(1)\n",
    "q.pushBack(2)\n",
    "q.pushMiddle(3)\n",
    "q.pushMiddle(4)\n",
    "print(q.popFront())\n",
    "print(\"---\")\n",
    "print(q.popMiddle())\n",
    "print(\"---\")\n",
    "print(q.popMiddle())\n",
    "print(\"---\")\n",
    "print(q.popBack())\n",
    "print(\"---\")\n",
    "print(q.popFront())\n"
   ]
  },
  {
   "cell_type": "markdown",
   "id": "d92b1111-0284-423e-8d63-5853807da21c",
   "metadata": {},
   "source": [
    "#### Q.8"
   ]
  },
  {
   "cell_type": "code",
   "execution_count": 25,
   "id": "438dbb9e-3505-4609-954f-0a1bcdf99a66",
   "metadata": {},
   "outputs": [
    {
     "name": "stdout",
     "output_type": "stream",
     "text": [
      "False\n",
      "---\n",
      "False\n",
      "---\n",
      "True\n",
      "---\n",
      "False\n"
     ]
    }
   ],
   "source": [
    "from collections import deque\n",
    "\n",
    "class DataStream:\n",
    "    def __init__(self, value: int, k: int):\n",
    "        self.buffer = deque(maxlen=k)\n",
    "        self.value = value\n",
    "        self.k = k\n",
    "\n",
    "    def consec(self, num: int) -> bool:\n",
    "        self.buffer.append(num)\n",
    "        if len(self.buffer) < self.k:\n",
    "            return False\n",
    "        return all(element == self.value for element in self.buffer)\n",
    "\n",
    "dataStream = DataStream(4, 3)\n",
    "print(dataStream.consec(4))\n",
    "print(\"---\")\n",
    "print(dataStream.consec(4))\n",
    "print(\"---\")\n",
    "print(dataStream.consec(4))\n",
    "print(\"---\")\n",
    "print(dataStream.consec(3))\n"
   ]
  },
  {
   "cell_type": "code",
   "execution_count": null,
   "id": "252d57fc-00b9-418a-88a7-9924b04a9e8e",
   "metadata": {},
   "outputs": [],
   "source": []
  }
 ],
 "metadata": {
  "kernelspec": {
   "display_name": "Python 3 (ipykernel)",
   "language": "python",
   "name": "python3"
  },
  "language_info": {
   "codemirror_mode": {
    "name": "ipython",
    "version": 3
   },
   "file_extension": ".py",
   "mimetype": "text/x-python",
   "name": "python",
   "nbconvert_exporter": "python",
   "pygments_lexer": "ipython3",
   "version": "3.10.6"
  }
 },
 "nbformat": 4,
 "nbformat_minor": 5
}
