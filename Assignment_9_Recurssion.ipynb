{
 "cells": [
  {
   "cell_type": "markdown",
   "id": "d57af1c5-b2b6-404d-a6bc-0b889eefd9e5",
   "metadata": {},
   "source": [
    "#### Q.1"
   ]
  },
  {
   "cell_type": "code",
   "execution_count": 12,
   "id": "544be025-89e5-475d-81e7-0de61b531a4c",
   "metadata": {},
   "outputs": [
    {
     "name": "stdout",
     "output_type": "stream",
     "text": [
      "True\n",
      "-------\n",
      "True\n",
      "-------\n",
      "False\n"
     ]
    }
   ],
   "source": [
    "def IspowOfTwo(n):\n",
    "    if n == 1:\n",
    "        return True\n",
    "    elif n % 2 == 0:\n",
    "        return pow(n//2)\n",
    "    else:\n",
    "        return False\n",
    "\n",
    "print(IspowOfTwo(1))\n",
    "print(\"-------\")\n",
    "print(IspowOfTwo(16))\n",
    "print(\"-------\")\n",
    "print(IspowOfTwo(3))"
   ]
  },
  {
   "cell_type": "markdown",
   "id": "a523bc33-3d18-43f7-8985-90e3cb442d41",
   "metadata": {},
   "source": [
    "#### Q.2"
   ]
  },
  {
   "cell_type": "code",
   "execution_count": 3,
   "id": "37bc555c-f777-4b1e-b671-40fd2b143e11",
   "metadata": {},
   "outputs": [
    {
     "name": "stdout",
     "output_type": "stream",
     "text": [
      "6\n",
      "------\n",
      "15\n"
     ]
    }
   ],
   "source": [
    "def SumOfnNaturalnum(n):\n",
    "    if n == 0:\n",
    "        return 0\n",
    "    else: \n",
    "        return n + SumOfnNaturalnum(n-1)\n",
    "    \n",
    "print(SumOfnNaturalnum(3))\n",
    "print(\"------\")\n",
    "print(SumOfnNaturalnum(5))"
   ]
  },
  {
   "cell_type": "markdown",
   "id": "87c78bf5-c750-45bc-9735-cefc4d9c0c13",
   "metadata": {},
   "source": [
    "#### Q.3"
   ]
  },
  {
   "cell_type": "code",
   "execution_count": 6,
   "id": "95243237-9e75-44c1-8a16-72c62990ecfd",
   "metadata": {},
   "outputs": [
    {
     "name": "stdout",
     "output_type": "stream",
     "text": [
      "120\n",
      "-----\n",
      "24\n"
     ]
    }
   ],
   "source": [
    "def factorial(n):\n",
    "    if n == 0 or n == 1:\n",
    "        return 1\n",
    "    else:\n",
    "        return n * factorial(n-1)\n",
    "\n",
    "print(factorial(5))\n",
    "print(\"-----\")\n",
    "print(factorial(4))"
   ]
  },
  {
   "cell_type": "markdown",
   "id": "d06fff1f-7172-4928-ab94-eeba43f96027",
   "metadata": {},
   "source": [
    "#### Q.4"
   ]
  },
  {
   "cell_type": "code",
   "execution_count": 8,
   "id": "395bf85a-14d9-412e-9dc6-67d7b74a1527",
   "metadata": {},
   "outputs": [
    {
     "name": "stdout",
     "output_type": "stream",
     "text": [
      "25\n",
      "-------\n",
      "32\n"
     ]
    }
   ],
   "source": [
    "def power(N, P):\n",
    "    if P == 0:\n",
    "        return 1\n",
    "    elif P == 1:\n",
    "        return N\n",
    "    else:\n",
    "        return N * power(N, P - 1)\n",
    "\n",
    "print(power(5, 2))\n",
    "print(\"-------\")\n",
    "print(power(2, 5))"
   ]
  },
  {
   "cell_type": "markdown",
   "id": "e47c47af-b891-4d3d-8f86-fccfff5ff8a8",
   "metadata": {},
   "source": [
    "#### Q.5"
   ]
  },
  {
   "cell_type": "code",
   "execution_count": 15,
   "id": "bcd5c8d4-b572-4828-9cd4-d89839848b90",
   "metadata": {},
   "outputs": [
    {
     "name": "stdout",
     "output_type": "stream",
     "text": [
      "8\n",
      "----\n",
      "45\n"
     ]
    }
   ],
   "source": [
    "def findMax(arr, index):\n",
    "    if index == len(arr) - 1:\n",
    "        return arr[index]\n",
    "    else:\n",
    "        return max(arr[index], findMax(arr, index + 1))\n",
    "\n",
    "print(findMax([1, 4, 3, -5, -4, 8, 6], 0))\n",
    "print(\"----\")\n",
    "print(findMax([1, 4, 45, 6, 10, -8], 0))"
   ]
  },
  {
   "cell_type": "markdown",
   "id": "0bff07b3-7277-42ee-8ad9-1d345b29aa41",
   "metadata": {},
   "source": [
    "#### Q.6"
   ]
  },
  {
   "cell_type": "code",
   "execution_count": 22,
   "id": "992ed2bf-5fd8-41ca-8932-8ea7e2869fc2",
   "metadata": {},
   "outputs": [
    {
     "name": "stdout",
     "output_type": "stream",
     "text": [
      "6\n",
      "-----\n",
      "23\n"
     ]
    }
   ],
   "source": [
    "def findNthTerm(a, d, N):\n",
    "    if N == 1:\n",
    "        return a\n",
    "    else:\n",
    "        return findNthTerm(a, d, N - 1) + d\n",
    "\n",
    "print(findNthTerm(2,1,5))\n",
    "print(\"-----\")\n",
    "print(findNthTerm(5,2,10))"
   ]
  },
  {
   "cell_type": "markdown",
   "id": "5c9292cf-0b66-4010-a823-d194af9aae26",
   "metadata": {},
   "source": [
    "#### Q.7"
   ]
  },
  {
   "cell_type": "code",
   "execution_count": 27,
   "id": "d288749d-71ca-4ddb-9d2f-2bb5b717acc0",
   "metadata": {},
   "outputs": [
    {
     "name": "stdout",
     "output_type": "stream",
     "text": [
      "ABC\n",
      "ACB\n",
      "BAC\n",
      "BCA\n",
      "CBA\n",
      "CAB\n",
      "-----\n",
      "XY\n",
      "YX\n"
     ]
    }
   ],
   "source": [
    "def permute(S, start, n):\n",
    "    if start == n - 1:\n",
    "        print(\"\".join(S))\n",
    "    else:\n",
    "        for i in range(start, n):\n",
    "            S[start], S[i] = S[i], S[start]\n",
    "            permute(S, start + 1, n)\n",
    "            S[start], S[i] = S[i], S[start]\n",
    "\n",
    "permute(list(\"ABC\"), 0, len(\"ABC\"))\n",
    "print(\"-----\")\n",
    "permute(list(\"XY\"), 0, len(\"XY\"))"
   ]
  },
  {
   "cell_type": "markdown",
   "id": "8f6d580f-c174-4915-9ba5-2c6ea074d636",
   "metadata": {},
   "source": [
    "#### Q.8"
   ]
  },
  {
   "cell_type": "code",
   "execution_count": 30,
   "id": "1d85048e-ceec-4329-afe0-b143149fe614",
   "metadata": {},
   "outputs": [
    {
     "name": "stdout",
     "output_type": "stream",
     "text": [
      "Product of array1 elements: 120\n",
      "----\n",
      "Product of array2 elements: 18\n"
     ]
    }
   ],
   "source": [
    "def productOfArray(arr, index):\n",
    "    if index == len(arr) - 1:\n",
    "        return arr[index]\n",
    "    else:\n",
    "        return arr[index] * productOfArray(arr, index + 1)\n",
    "\n",
    "arr1 = [1, 2, 3, 4, 5]\n",
    "product1 = productOfArray(arr1, 0)\n",
    "print(\"Product of array1 elements:\", product1)\n",
    "print(\"----\")\n",
    "arr2 = [1, 6, 3]\n",
    "product2 = productOfArray(arr2, 0)\n",
    "print(\"Product of array2 elements:\", product2)"
   ]
  },
  {
   "cell_type": "code",
   "execution_count": null,
   "id": "c135ed1d-e568-416b-87bd-2bef8fd0d049",
   "metadata": {},
   "outputs": [],
   "source": []
  }
 ],
 "metadata": {
  "kernelspec": {
   "display_name": "Python 3 (ipykernel)",
   "language": "python",
   "name": "python3"
  },
  "language_info": {
   "codemirror_mode": {
    "name": "ipython",
    "version": 3
   },
   "file_extension": ".py",
   "mimetype": "text/x-python",
   "name": "python",
   "nbconvert_exporter": "python",
   "pygments_lexer": "ipython3",
   "version": "3.10.6"
  }
 },
 "nbformat": 4,
 "nbformat_minor": 5
}
