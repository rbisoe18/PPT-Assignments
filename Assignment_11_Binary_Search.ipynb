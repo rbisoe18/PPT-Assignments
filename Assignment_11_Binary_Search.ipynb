{
 "cells": [
  {
   "cell_type": "markdown",
   "id": "16518e2d-3133-495b-a610-0eef9264b706",
   "metadata": {},
   "source": [
    "#### Q.1."
   ]
  },
  {
   "cell_type": "code",
   "execution_count": 2,
   "id": "6ca529a4-db3e-4647-a8f0-8b755eae43f0",
   "metadata": {},
   "outputs": [
    {
     "name": "stdout",
     "output_type": "stream",
     "text": [
      "2\n",
      "----\n",
      "2\n"
     ]
    }
   ],
   "source": [
    "def mySqrt(x):\n",
    "    if x == 0:\n",
    "        return 0\n",
    "    \n",
    "    left = 1\n",
    "    right = x\n",
    "    \n",
    "    while left <= right:\n",
    "        mid = left + (right - left) // 2\n",
    "        if mid * mid == x:\n",
    "            return mid\n",
    "        elif mid * mid < x:\n",
    "            left = mid + 1\n",
    "        else:\n",
    "            right = mid - 1\n",
    "    \n",
    "    return right\n",
    "\n",
    "print(mySqrt(4))\n",
    "print(\"----\")\n",
    "print(mySqrt(8))"
   ]
  },
  {
   "cell_type": "markdown",
   "id": "2e7aa9a0-8dc8-4a2f-891e-ee27dbef2d1c",
   "metadata": {},
   "source": [
    "#### Q.2."
   ]
  },
  {
   "cell_type": "code",
   "execution_count": 5,
   "id": "2b2f5a5b-1eea-47c4-a226-961c9f7b27bf",
   "metadata": {},
   "outputs": [
    {
     "name": "stdout",
     "output_type": "stream",
     "text": [
      "2\n",
      "-----\n",
      "5\n"
     ]
    }
   ],
   "source": [
    "def findPeakElement(nums):\n",
    "    left, right = 0, len(nums) - 1\n",
    "\n",
    "    while left < right:\n",
    "        mid = left + (right - left) // 2\n",
    "\n",
    "        if nums[mid] > nums[mid+1] and nums[mid] > nums[mid-1]:\n",
    "            return mid\n",
    "        elif nums[mid-1] > nums[mid]:\n",
    "            right = mid - 1\n",
    "        else:\n",
    "            left = mid + 1\n",
    "\n",
    "    return left\n",
    "\n",
    "print(findPeakElement([1, 2, 3, 1]))\n",
    "print(\"-----\")\n",
    "print(findPeakElement([1, 2, 1, 3, 5, 6, 4]))\n"
   ]
  },
  {
   "cell_type": "markdown",
   "id": "cfe88f79-093c-48bc-b2fc-09bf6f516f01",
   "metadata": {},
   "source": [
    "#### Q.3"
   ]
  },
  {
   "cell_type": "code",
   "execution_count": 10,
   "id": "1ad8afe5-d67b-48cb-a257-304120e3bb1b",
   "metadata": {},
   "outputs": [
    {
     "name": "stdout",
     "output_type": "stream",
     "text": [
      "2\n",
      "---\n",
      "2\n",
      "---\n",
      "8\n"
     ]
    }
   ],
   "source": [
    "def missingNumber(nums):\n",
    "    n = len(nums)\n",
    "    expected_sum = (n * (n + 1)) // 2\n",
    "\n",
    "    for num in nums:\n",
    "        expected_sum -= num\n",
    "\n",
    "    return expected_sum\n",
    "\n",
    "print(missingNumber([3, 0, 1]))\n",
    "print(\"---\")\n",
    "print(missingNumber([0,1]))\n",
    "print(\"---\")\n",
    "print(missingNumber([9,6,4,2,3,5,7,0,1]))"
   ]
  },
  {
   "cell_type": "markdown",
   "id": "36f0ec5d-cb19-4bcc-8d80-a11238b060f9",
   "metadata": {},
   "source": [
    "#### Q.5"
   ]
  },
  {
   "cell_type": "code",
   "execution_count": 2,
   "id": "9a83ca07-54a8-4aa1-8460-37345eec797b",
   "metadata": {},
   "outputs": [
    {
     "name": "stdout",
     "output_type": "stream",
     "text": [
      "[2, 2]\n"
     ]
    }
   ],
   "source": [
    "def intersection(nums1,nums2):\n",
    "    for num1 in nums1:\n",
    "        for num2 in nums2:\n",
    "            if num2 in nums1:\n",
    "                return nums2\n",
    "print(intersection([1,2,2,1],[2,2]))"
   ]
  },
  {
   "cell_type": "code",
   "execution_count": 6,
   "id": "fb3b1298-e92c-4bfd-859b-099d6fc0075a",
   "metadata": {},
   "outputs": [
    {
     "name": "stdout",
     "output_type": "stream",
     "text": [
      "[2]\n",
      "----------\n",
      "[9, 4]\n"
     ]
    }
   ],
   "source": [
    "def intersection(nums1, nums2):\n",
    "    set1 = set(nums1)\n",
    "    set2 = set(nums2)\n",
    "    \n",
    "    intersection = []\n",
    "    for num in set1:\n",
    "        if num in set2:\n",
    "            intersection.append(num)\n",
    "    \n",
    "    return intersection\n",
    "\n",
    "print(intersection([1, 2, 2, 1], [2, 2]))\n",
    "print(\"----------\")\n",
    "print(intersection([4, 9, 5], [9, 4, 9, 8, 4]))\n",
    "\n"
   ]
  },
  {
   "cell_type": "markdown",
   "id": "5b9bfd90-f3dc-4d64-9e09-95c2f296c222",
   "metadata": {},
   "source": [
    "#### Q.6"
   ]
  },
  {
   "cell_type": "code",
   "execution_count": 12,
   "id": "545e11f4-5763-4088-bfbc-aec9b2da99ae",
   "metadata": {},
   "outputs": [
    {
     "name": "stdout",
     "output_type": "stream",
     "text": [
      "1\n",
      "----------\n",
      "0\n",
      "----------\n",
      "11\n"
     ]
    }
   ],
   "source": [
    "def findMin(nums):\n",
    "    left = 0\n",
    "    right = len(nums) - 1\n",
    "    \n",
    "    # Check if array is not rotated\n",
    "    if nums[left] <= nums[right]:\n",
    "        return nums[left]\n",
    "    \n",
    "    # Perform binary search\n",
    "    while left < right:\n",
    "        mid = (left + right) // 2\n",
    "        if nums[mid] < nums[right]:\n",
    "            right = mid\n",
    "        else:\n",
    "            left = mid + 1\n",
    "    \n",
    "    # Return the minimum element\n",
    "    return nums[left]\n",
    "\n",
    "print(findMin([3, 4, 5, 1, 2]))\n",
    "print(\"----------\")\n",
    "print(findMin([4, 5, 6, 7, 0, 1, 2]))\n",
    "print(\"----------\")\n",
    "print(findMin([11, 13, 15, 17]))\n"
   ]
  },
  {
   "cell_type": "markdown",
   "id": "c6525a63-2ece-4b4b-8855-08c29656f0c2",
   "metadata": {},
   "source": [
    "#### Q.7"
   ]
  },
  {
   "cell_type": "code",
   "execution_count": 8,
   "id": "b0200b64-4450-417b-9496-b2da7aab9b5c",
   "metadata": {},
   "outputs": [
    {
     "name": "stdout",
     "output_type": "stream",
     "text": [
      "[3, 4]\n",
      "----------\n",
      "[-1, -1]\n",
      "----------\n",
      "[-1, -1]\n"
     ]
    }
   ],
   "source": [
    "def searchRange(nums, target):\n",
    "    left = right = -1\n",
    "\n",
    "    # Find the leftmost occurrence of the target\n",
    "    low, high = 0, len(nums) - 1\n",
    "    while low <= high:\n",
    "        mid = (low + high) // 2\n",
    "        if nums[mid] >= target:\n",
    "            high = mid - 1\n",
    "        else:\n",
    "            low = mid + 1\n",
    "    if low < len(nums) and nums[low] == target:\n",
    "        left = low\n",
    "\n",
    "    # Find the rightmost occurrence of the target\n",
    "    low, high = 0, len(nums) - 1\n",
    "    while low <= high:\n",
    "        mid = (low + high) // 2\n",
    "        if nums[mid] <= target:\n",
    "            low = mid + 1\n",
    "        else:\n",
    "            high = mid - 1\n",
    "    if high >= 0 and nums[high] == target:\n",
    "        right = high\n",
    "\n",
    "    return [left, right]\n",
    "\n",
    "\n",
    "print(searchRange([5,7,7,8,8,10],8))\n",
    "print(\"----------\")\n",
    "print(searchRange([5,7,7,8,8,10],6))\n",
    "print(\"----------\")\n",
    "print(searchRange([],0))"
   ]
  },
  {
   "cell_type": "markdown",
   "id": "ae9d9a5a-b480-4dd6-821d-ff1930925dd9",
   "metadata": {},
   "source": [
    "#### Q.8"
   ]
  },
  {
   "cell_type": "code",
   "execution_count": 9,
   "id": "80f67b55-64b8-4b85-aa2f-8f78745ad6c6",
   "metadata": {},
   "outputs": [
    {
     "name": "stdout",
     "output_type": "stream",
     "text": [
      "[2]\n",
      "----------\n",
      "[9, 4]\n"
     ]
    }
   ],
   "source": [
    "def intersection(nums1, nums2):\n",
    "    set1 = set(nums1)\n",
    "    set2 = set(nums2)\n",
    "    \n",
    "    intersection = []\n",
    "    for num in set1:\n",
    "        if num in set2:\n",
    "            intersection.append(num)\n",
    "    \n",
    "    return intersection\n",
    "\n",
    "print(intersection([1, 2, 2, 1], [2, 2]))\n",
    "print(\"----------\")\n",
    "print(intersection([4, 9, 5], [9, 4, 9, 8, 4]))\n",
    "\n"
   ]
  },
  {
   "cell_type": "code",
   "execution_count": null,
   "id": "400a26cb-fd52-4c36-b72b-4267b20b9b8e",
   "metadata": {},
   "outputs": [],
   "source": []
  }
 ],
 "metadata": {
  "kernelspec": {
   "display_name": "Python 3 (ipykernel)",
   "language": "python",
   "name": "python3"
  },
  "language_info": {
   "codemirror_mode": {
    "name": "ipython",
    "version": 3
   },
   "file_extension": ".py",
   "mimetype": "text/x-python",
   "name": "python",
   "nbconvert_exporter": "python",
   "pygments_lexer": "ipython3",
   "version": "3.10.6"
  }
 },
 "nbformat": 4,
 "nbformat_minor": 5
}
