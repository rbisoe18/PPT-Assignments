{
 "cells": [
  {
   "cell_type": "markdown",
   "id": "e20ddc12-0482-4d95-af42-e4857ef54a57",
   "metadata": {},
   "source": [
    "#### Q.1"
   ]
  },
  {
   "cell_type": "code",
   "execution_count": 7,
   "id": "8dd98c80-da31-479d-89e0-61ce94062da8",
   "metadata": {},
   "outputs": [
    {
     "name": "stdout",
     "output_type": "stream",
     "text": [
      "True\n",
      "-------\n",
      "False\n",
      "-------\n",
      "False\n"
     ]
    }
   ],
   "source": [
    "def IspowOfThree(n):\n",
    "    if n == 1:\n",
    "        return True\n",
    "    elif n <= 0 or n % 3 != 0:\n",
    "        return False\n",
    "    else:\n",
    "        return IspowOfThree(n/3)\n",
    "\n",
    "print(IspowOfThree(27))\n",
    "print(\"-------\")\n",
    "print(IspowOfThree(0))\n",
    "print(\"-------\")\n",
    "print(IspowOfThree(-1))"
   ]
  },
  {
   "cell_type": "markdown",
   "id": "7ba0b5e1-35d0-4262-959c-4b3b55e96bf0",
   "metadata": {},
   "source": [
    "#### Q.2"
   ]
  },
  {
   "cell_type": "code",
   "execution_count": 16,
   "id": "d8bd6e88-df4f-474f-b3be-40556635410c",
   "metadata": {},
   "outputs": [
    {
     "name": "stdout",
     "output_type": "stream",
     "text": [
      "6\n"
     ]
    }
   ],
   "source": [
    "def lastRemaining(n):\n",
    "    arr = list(range(1, n+1))\n",
    "    return lastRemainingHelper(arr, n)\n",
    "\n",
    "def lastRemainings(arr, n):\n",
    "    if n == 1:\n",
    "        return arr[0]\n",
    "    \n",
    "    new_arr = arr[1::2]\n",
    "    return lastRemainings(new_arr[::-1], n // 2)\n",
    "\n",
    "n = 9\n",
    "print(lastRemaining(n))"
   ]
  },
  {
   "cell_type": "markdown",
   "id": "20a6ef6c-e014-402e-9074-ac1efca9f42e",
   "metadata": {},
   "source": [
    "#### Q.4"
   ]
  },
  {
   "cell_type": "code",
   "execution_count": 23,
   "id": "dbd20e32-c991-4ec8-9a7d-70b01f671592",
   "metadata": {},
   "outputs": [
    {
     "name": "stdout",
     "output_type": "stream",
     "text": [
      "4\n",
      "-----\n",
      "13\n"
     ]
    }
   ],
   "source": [
    "def calculateLength(str):\n",
    "    if str == \"\":\n",
    "        return 0\n",
    "    else:\n",
    "        return 1 + calculateLength(str[1:])\n",
    "\n",
    "print(calculateLength(\"abcd\"))\n",
    "print(\"-----\")\n",
    "print(calculateLength(\"GEEKSFORGEEKS\"))"
   ]
  },
  {
   "cell_type": "markdown",
   "id": "b91b9750-cd91-4e9e-b6b2-1de29eb15b1d",
   "metadata": {},
   "source": [
    "#### Q.5"
   ]
  },
  {
   "cell_type": "code",
   "execution_count": 24,
   "id": "06557422-9337-4e5c-8081-bce25998a997",
   "metadata": {},
   "outputs": [
    {
     "name": "stdout",
     "output_type": "stream",
     "text": [
      "7\n",
      "----\n",
      "4\n"
     ]
    }
   ],
   "source": [
    "def countSubstrings(s):\n",
    "    if len(s) <= 1:\n",
    "        return 1\n",
    "    \n",
    "    count = 0\n",
    "    for i in range(len(s)):\n",
    "        if s[i] == s[0]:\n",
    "            count += 1\n",
    "    \n",
    "    count += countSubstrings(s[1:])\n",
    "    return count\n",
    "\n",
    "print(countSubstrings(\"abcab\"))\n",
    "print(\"----\")\n",
    "print(countSubstrings(\"aba\"))\n"
   ]
  },
  {
   "cell_type": "markdown",
   "id": "cfde3f20-09ae-40c3-ab35-d907d912c395",
   "metadata": {},
   "source": [
    "#### Q.7"
   ]
  },
  {
   "cell_type": "code",
   "execution_count": 30,
   "id": "2d72273e-f2b0-427b-8937-71efb804c678",
   "metadata": {},
   "outputs": [
    {
     "name": "stdout",
     "output_type": "stream",
     "text": [
      "cd\n",
      "dc\n"
     ]
    }
   ],
   "source": [
    "def permute(str, left, right):\n",
    "    if left == right:\n",
    "        print(''.join(str))\n",
    "    else:\n",
    "        for i in range(left, right + 1):\n",
    "            str[left], str[i] = str[i], str[left]\n",
    "            permute(str, left + 1, right)\n",
    "            str[left], str[i] = str[i], str[left]\n",
    "\n",
    "permute(list(str), 0, len(\"cd\") - 1)\n"
   ]
  },
  {
   "cell_type": "markdown",
   "id": "f21d1a67-85b9-4006-9bb2-ccb4bea6370d",
   "metadata": {},
   "source": [
    "#### Q.8"
   ]
  },
  {
   "cell_type": "code",
   "execution_count": 35,
   "id": "68383539-d910-4979-b0b8-044bca242599",
   "metadata": {},
   "outputs": [
    {
     "name": "stdout",
     "output_type": "stream",
     "text": [
      "3\n",
      "----\n",
      "12\n"
     ]
    }
   ],
   "source": [
    "def countConsonants(str, index, count):\n",
    "    vowels = ['a', 'e', 'i', 'o', 'u']\n",
    "\n",
    "    if index == len(str):\n",
    "        return count\n",
    "    elif str[index].lower() not in vowels and str[index].isalpha():\n",
    "        count += 1\n",
    "\n",
    "    return countConsonants(str, index + 1, count)\n",
    "\n",
    "print(countConsonants(\"abc de\", 0, 0))\n",
    "print(\"----\")\n",
    "print(countConsonants(\"geeksforgeeks portal\", 0, 0))"
   ]
  }
 ],
 "metadata": {
  "kernelspec": {
   "display_name": "Python 3 (ipykernel)",
   "language": "python",
   "name": "python3"
  },
  "language_info": {
   "codemirror_mode": {
    "name": "ipython",
    "version": 3
   },
   "file_extension": ".py",
   "mimetype": "text/x-python",
   "name": "python",
   "nbconvert_exporter": "python",
   "pygments_lexer": "ipython3",
   "version": "3.10.6"
  }
 },
 "nbformat": 4,
 "nbformat_minor": 5
}
